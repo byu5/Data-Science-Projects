{
 "cells": [
  {
   "cell_type": "markdown",
   "metadata": {},
   "source": [
    "## Media Analytics Prediction Project"
   ]
  },
  {
   "cell_type": "markdown",
   "metadata": {},
   "source": [
    "**Problem Statement**\n",
    "\n",
    "The goals are how to predict views and search volumes in the future."
   ]
  },
  {
   "cell_type": "markdown",
   "metadata": {},
   "source": [
    "### Data Inspection & Data Cleaning"
   ]
  },
  {
   "cell_type": "markdown",
   "metadata": {},
   "source": [
    "Import required package"
   ]
  },
  {
   "cell_type": "code",
   "execution_count": 1,
   "metadata": {},
   "outputs": [],
   "source": [
    "import warnings\n",
    "warnings.filterwarnings('ignore')\n",
    "\n",
    "# Import the numpy and pandas package\n",
    "\n",
    "import numpy as np\n",
    "import pandas as pd\n",
    "\n",
    "# Data Visualisation packages\n",
    "\n",
    "import matplotlib.pyplot as plt \n",
    "import seaborn as sns\n",
    "\n",
    "import statsmodels.api as sm "
   ]
  },
  {
   "cell_type": "code",
   "execution_count": 2,
   "metadata": {},
   "outputs": [
    {
     "name": "stdout",
     "output_type": "stream",
     "text": [
      "Requirement already satisfied: openpyxl in /Users/selina/opt/anaconda3/lib/python3.8/site-packages (3.0.7)\n",
      "Requirement already satisfied: et-xmlfile in /Users/selina/opt/anaconda3/lib/python3.8/site-packages (from openpyxl) (1.1.0)\n",
      "Note: you may need to restart the kernel to use updated packages.\n"
     ]
    }
   ],
   "source": [
    "pip install openpyxl"
   ]
  },
  {
   "cell_type": "code",
   "execution_count": 3,
   "metadata": {},
   "outputs": [
    {
     "data": {
      "text/html": [
       "<div>\n",
       "<style scoped>\n",
       "    .dataframe tbody tr th:only-of-type {\n",
       "        vertical-align: middle;\n",
       "    }\n",
       "\n",
       "    .dataframe tbody tr th {\n",
       "        vertical-align: top;\n",
       "    }\n",
       "\n",
       "    .dataframe thead th {\n",
       "        text-align: right;\n",
       "    }\n",
       "</style>\n",
       "<table border=\"1\" class=\"dataframe\">\n",
       "  <thead>\n",
       "    <tr style=\"text-align: right;\">\n",
       "      <th></th>\n",
       "      <th>date</th>\n",
       "      <th>spend</th>\n",
       "      <th>Views</th>\n",
       "      <th>Search Volume</th>\n",
       "      <th>Keywords Natrual Traffic</th>\n",
       "      <th>Keywords Natraul Search</th>\n",
       "      <th>Nano Keywords Natrual Traffic</th>\n",
       "      <th>Nano Keywords Natraul Search</th>\n",
       "      <th>Upper Funnel Marketing Cost</th>\n",
       "      <th>YouTube Cost</th>\n",
       "      <th>YouTube Impression</th>\n",
       "      <th>YouTube Pageviews</th>\n",
       "      <th>Facebook Cost</th>\n",
       "      <th>Facebook Impression</th>\n",
       "      <th>Facebook pageviews</th>\n",
       "      <th>FB Prospecting For Purchase Cost</th>\n",
       "      <th>Twitter Cost</th>\n",
       "      <th>Twitter Impression</th>\n",
       "      <th>Twitter pageviews</th>\n",
       "    </tr>\n",
       "  </thead>\n",
       "  <tbody>\n",
       "    <tr>\n",
       "      <th>1</th>\n",
       "      <td>2020-10-02 00:00:00</td>\n",
       "      <td>13421</td>\n",
       "      <td>21711</td>\n",
       "      <td>301380</td>\n",
       "      <td>3763</td>\n",
       "      <td>8832</td>\n",
       "      <td>118</td>\n",
       "      <td>445</td>\n",
       "      <td>13420.7</td>\n",
       "      <td>0.05</td>\n",
       "      <td>38</td>\n",
       "      <td>0</td>\n",
       "      <td>9720.64</td>\n",
       "      <td>1351883</td>\n",
       "      <td>17717</td>\n",
       "      <td>0</td>\n",
       "      <td>3700</td>\n",
       "      <td>1031555</td>\n",
       "      <td>3516</td>\n",
       "    </tr>\n",
       "    <tr>\n",
       "      <th>2</th>\n",
       "      <td>2020-10-03 00:00:00</td>\n",
       "      <td>14345</td>\n",
       "      <td>21495</td>\n",
       "      <td>301912</td>\n",
       "      <td>3690</td>\n",
       "      <td>8475</td>\n",
       "      <td>50</td>\n",
       "      <td>298</td>\n",
       "      <td>14344.6</td>\n",
       "      <td>0.62</td>\n",
       "      <td>410</td>\n",
       "      <td>0</td>\n",
       "      <td>10644</td>\n",
       "      <td>1388664</td>\n",
       "      <td>17748</td>\n",
       "      <td>0</td>\n",
       "      <td>3700</td>\n",
       "      <td>846274</td>\n",
       "      <td>3534</td>\n",
       "    </tr>\n",
       "    <tr>\n",
       "      <th>3</th>\n",
       "      <td>2020-10-04 00:00:00</td>\n",
       "      <td>16454</td>\n",
       "      <td>23032</td>\n",
       "      <td>316834</td>\n",
       "      <td>3944</td>\n",
       "      <td>8832</td>\n",
       "      <td>66</td>\n",
       "      <td>330</td>\n",
       "      <td>16454</td>\n",
       "      <td>3659.5</td>\n",
       "      <td>609663</td>\n",
       "      <td>982</td>\n",
       "      <td>9096.27</td>\n",
       "      <td>1235405</td>\n",
       "      <td>16047</td>\n",
       "      <td>0</td>\n",
       "      <td>3698.24</td>\n",
       "      <td>781267</td>\n",
       "      <td>3483</td>\n",
       "    </tr>\n",
       "    <tr>\n",
       "      <th>4</th>\n",
       "      <td>2020-10-05 00:00:00</td>\n",
       "      <td>24002</td>\n",
       "      <td>24585</td>\n",
       "      <td>318226</td>\n",
       "      <td>4174</td>\n",
       "      <td>9908</td>\n",
       "      <td>60</td>\n",
       "      <td>427</td>\n",
       "      <td>24002.1</td>\n",
       "      <td>11280.6</td>\n",
       "      <td>4316890</td>\n",
       "      <td>4380</td>\n",
       "      <td>9069.1</td>\n",
       "      <td>1241953</td>\n",
       "      <td>13268</td>\n",
       "      <td>0</td>\n",
       "      <td>3652.43</td>\n",
       "      <td>1114016</td>\n",
       "      <td>3353</td>\n",
       "    </tr>\n",
       "    <tr>\n",
       "      <th>5</th>\n",
       "      <td>2020-10-06 00:00:00</td>\n",
       "      <td>22620</td>\n",
       "      <td>22886</td>\n",
       "      <td>313264</td>\n",
       "      <td>2970</td>\n",
       "      <td>9818</td>\n",
       "      <td>79</td>\n",
       "      <td>576</td>\n",
       "      <td>22619.7</td>\n",
       "      <td>9803.35</td>\n",
       "      <td>5375037</td>\n",
       "      <td>5086</td>\n",
       "      <td>9125.2</td>\n",
       "      <td>1172521</td>\n",
       "      <td>12017</td>\n",
       "      <td>0</td>\n",
       "      <td>3691.19</td>\n",
       "      <td>1015500</td>\n",
       "      <td>3362</td>\n",
       "    </tr>\n",
       "    <tr>\n",
       "      <th>...</th>\n",
       "      <td>...</td>\n",
       "      <td>...</td>\n",
       "      <td>...</td>\n",
       "      <td>...</td>\n",
       "      <td>...</td>\n",
       "      <td>...</td>\n",
       "      <td>...</td>\n",
       "      <td>...</td>\n",
       "      <td>...</td>\n",
       "      <td>...</td>\n",
       "      <td>...</td>\n",
       "      <td>...</td>\n",
       "      <td>...</td>\n",
       "      <td>...</td>\n",
       "      <td>...</td>\n",
       "      <td>...</td>\n",
       "      <td>...</td>\n",
       "      <td>...</td>\n",
       "      <td>...</td>\n",
       "    </tr>\n",
       "    <tr>\n",
       "      <th>87</th>\n",
       "      <td>2020-12-27 00:00:00</td>\n",
       "      <td>63657</td>\n",
       "      <td>33215</td>\n",
       "      <td>410129</td>\n",
       "      <td>4285</td>\n",
       "      <td>11430</td>\n",
       "      <td>134</td>\n",
       "      <td>1048</td>\n",
       "      <td>30967.8</td>\n",
       "      <td>13084.9</td>\n",
       "      <td>2593141</td>\n",
       "      <td>38507</td>\n",
       "      <td>10217.8</td>\n",
       "      <td>1213999</td>\n",
       "      <td>13505</td>\n",
       "      <td>27982.6</td>\n",
       "      <td>7665.1</td>\n",
       "      <td>4476455</td>\n",
       "      <td>8839</td>\n",
       "    </tr>\n",
       "    <tr>\n",
       "      <th>88</th>\n",
       "      <td>2020-12-28 00:00:00</td>\n",
       "      <td>60008</td>\n",
       "      <td>33326</td>\n",
       "      <td>394050</td>\n",
       "      <td>4452</td>\n",
       "      <td>11765</td>\n",
       "      <td>145</td>\n",
       "      <td>1174</td>\n",
       "      <td>27467.2</td>\n",
       "      <td>9819.63</td>\n",
       "      <td>1937147</td>\n",
       "      <td>32355</td>\n",
       "      <td>9837.67</td>\n",
       "      <td>1268204</td>\n",
       "      <td>12780</td>\n",
       "      <td>28262.2</td>\n",
       "      <td>7809.88</td>\n",
       "      <td>4424504</td>\n",
       "      <td>8991</td>\n",
       "    </tr>\n",
       "    <tr>\n",
       "      <th>89</th>\n",
       "      <td>2020-12-29 00:00:00</td>\n",
       "      <td>55600</td>\n",
       "      <td>31866</td>\n",
       "      <td>368405</td>\n",
       "      <td>4320</td>\n",
       "      <td>11365</td>\n",
       "      <td>144</td>\n",
       "      <td>1108</td>\n",
       "      <td>24197.7</td>\n",
       "      <td>8955.18</td>\n",
       "      <td>1679864</td>\n",
       "      <td>28192</td>\n",
       "      <td>9687.41</td>\n",
       "      <td>1111138</td>\n",
       "      <td>12246</td>\n",
       "      <td>28233.7</td>\n",
       "      <td>5555.07</td>\n",
       "      <td>1982253</td>\n",
       "      <td>6409</td>\n",
       "    </tr>\n",
       "    <tr>\n",
       "      <th>90</th>\n",
       "      <td>2020-12-30 00:00:00</td>\n",
       "      <td>53384</td>\n",
       "      <td>29493</td>\n",
       "      <td>343053</td>\n",
       "      <td>3958</td>\n",
       "      <td>10307</td>\n",
       "      <td>128</td>\n",
       "      <td>995</td>\n",
       "      <td>23149.8</td>\n",
       "      <td>8056.09</td>\n",
       "      <td>1401576</td>\n",
       "      <td>25909</td>\n",
       "      <td>9517.32</td>\n",
       "      <td>972703</td>\n",
       "      <td>12366</td>\n",
       "      <td>28213.2</td>\n",
       "      <td>5576.4</td>\n",
       "      <td>2052034</td>\n",
       "      <td>6413</td>\n",
       "    </tr>\n",
       "    <tr>\n",
       "      <th>91</th>\n",
       "      <td>2020-12-31 00:00:00</td>\n",
       "      <td>52051</td>\n",
       "      <td>24240</td>\n",
       "      <td>291548</td>\n",
       "      <td>3099</td>\n",
       "      <td>8708</td>\n",
       "      <td>106</td>\n",
       "      <td>903</td>\n",
       "      <td>21910.9</td>\n",
       "      <td>6347.09</td>\n",
       "      <td>1168726</td>\n",
       "      <td>20641</td>\n",
       "      <td>9163.79</td>\n",
       "      <td>1094827</td>\n",
       "      <td>12430</td>\n",
       "      <td>27599.8</td>\n",
       "      <td>6400</td>\n",
       "      <td>2526062</td>\n",
       "      <td>7630</td>\n",
       "    </tr>\n",
       "  </tbody>\n",
       "</table>\n",
       "<p>91 rows × 19 columns</p>\n",
       "</div>"
      ],
      "text/plain": [
       "                   date  spend  Views Search Volume Keywords Natrual Traffic  \\\n",
       "1   2020-10-02 00:00:00  13421  21711        301380                     3763   \n",
       "2   2020-10-03 00:00:00  14345  21495        301912                     3690   \n",
       "3   2020-10-04 00:00:00  16454  23032        316834                     3944   \n",
       "4   2020-10-05 00:00:00  24002  24585        318226                     4174   \n",
       "5   2020-10-06 00:00:00  22620  22886        313264                     2970   \n",
       "..                  ...    ...    ...           ...                      ...   \n",
       "87  2020-12-27 00:00:00  63657  33215        410129                     4285   \n",
       "88  2020-12-28 00:00:00  60008  33326        394050                     4452   \n",
       "89  2020-12-29 00:00:00  55600  31866        368405                     4320   \n",
       "90  2020-12-30 00:00:00  53384  29493        343053                     3958   \n",
       "91  2020-12-31 00:00:00  52051  24240        291548                     3099   \n",
       "\n",
       "   Keywords Natraul Search Nano Keywords Natrual Traffic  \\\n",
       "1                     8832                           118   \n",
       "2                     8475                            50   \n",
       "3                     8832                            66   \n",
       "4                     9908                            60   \n",
       "5                     9818                            79   \n",
       "..                     ...                           ...   \n",
       "87                   11430                           134   \n",
       "88                   11765                           145   \n",
       "89                   11365                           144   \n",
       "90                   10307                           128   \n",
       "91                    8708                           106   \n",
       "\n",
       "   Nano Keywords Natraul Search Upper Funnel Marketing Cost YouTube Cost  \\\n",
       "1                           445                     13420.7         0.05   \n",
       "2                           298                     14344.6         0.62   \n",
       "3                           330                       16454       3659.5   \n",
       "4                           427                     24002.1      11280.6   \n",
       "5                           576                     22619.7      9803.35   \n",
       "..                          ...                         ...          ...   \n",
       "87                         1048                     30967.8      13084.9   \n",
       "88                         1174                     27467.2      9819.63   \n",
       "89                         1108                     24197.7      8955.18   \n",
       "90                          995                     23149.8      8056.09   \n",
       "91                          903                     21910.9      6347.09   \n",
       "\n",
       "   YouTube Impression YouTube Pageviews Facebook Cost Facebook Impression  \\\n",
       "1                  38                 0       9720.64             1351883   \n",
       "2                 410                 0         10644             1388664   \n",
       "3              609663               982       9096.27             1235405   \n",
       "4             4316890              4380        9069.1             1241953   \n",
       "5             5375037              5086        9125.2             1172521   \n",
       "..                ...               ...           ...                 ...   \n",
       "87            2593141             38507       10217.8             1213999   \n",
       "88            1937147             32355       9837.67             1268204   \n",
       "89            1679864             28192       9687.41             1111138   \n",
       "90            1401576             25909       9517.32              972703   \n",
       "91            1168726             20641       9163.79             1094827   \n",
       "\n",
       "   Facebook pageviews FB Prospecting For Purchase Cost Twitter Cost  \\\n",
       "1               17717                                0         3700   \n",
       "2               17748                                0         3700   \n",
       "3               16047                                0      3698.24   \n",
       "4               13268                                0      3652.43   \n",
       "5               12017                                0      3691.19   \n",
       "..                ...                              ...          ...   \n",
       "87              13505                          27982.6       7665.1   \n",
       "88              12780                          28262.2      7809.88   \n",
       "89              12246                          28233.7      5555.07   \n",
       "90              12366                          28213.2       5576.4   \n",
       "91              12430                          27599.8         6400   \n",
       "\n",
       "   Twitter Impression Twitter pageviews  \n",
       "1             1031555              3516  \n",
       "2              846274              3534  \n",
       "3              781267              3483  \n",
       "4             1114016              3353  \n",
       "5             1015500              3362  \n",
       "..                ...               ...  \n",
       "87            4476455              8839  \n",
       "88            4424504              8991  \n",
       "89            1982253              6409  \n",
       "90            2052034              6413  \n",
       "91            2526062              7630  \n",
       "\n",
       "[91 rows x 19 columns]"
      ]
     },
     "execution_count": 3,
     "metadata": {},
     "output_type": "execute_result"
    }
   ],
   "source": [
    "# Load the dataset \n",
    "import openpyxl\n",
    "import pandas as pd\n",
    "\n",
    "wb = openpyxl.load_workbook('Analytics.xlsx')\n",
    "sheet = wb.worksheets[1]\n",
    "\n",
    "dat = pd.DataFrame(sheet.values)\n",
    "dat = dat.rename(columns=dat.iloc[0]).drop([0]).head(93).head(91)\n",
    "dat = dat.loc[:, :'Twitter pageviews']\n",
    "dat\n"
   ]
  },
  {
   "cell_type": "markdown",
   "metadata": {},
   "source": [
    "Check the first few rows of the dataset"
   ]
  },
  {
   "cell_type": "code",
   "execution_count": 4,
   "metadata": {},
   "outputs": [
    {
     "data": {
      "text/html": [
       "<div>\n",
       "<style scoped>\n",
       "    .dataframe tbody tr th:only-of-type {\n",
       "        vertical-align: middle;\n",
       "    }\n",
       "\n",
       "    .dataframe tbody tr th {\n",
       "        vertical-align: top;\n",
       "    }\n",
       "\n",
       "    .dataframe thead th {\n",
       "        text-align: right;\n",
       "    }\n",
       "</style>\n",
       "<table border=\"1\" class=\"dataframe\">\n",
       "  <thead>\n",
       "    <tr style=\"text-align: right;\">\n",
       "      <th></th>\n",
       "      <th>date</th>\n",
       "      <th>spend</th>\n",
       "      <th>Views</th>\n",
       "      <th>Search Volume</th>\n",
       "      <th>Keywords Natrual Traffic</th>\n",
       "      <th>Keywords Natraul Search</th>\n",
       "      <th>Nano Keywords Natrual Traffic</th>\n",
       "      <th>Nano Keywords Natraul Search</th>\n",
       "      <th>Upper Funnel Marketing Cost</th>\n",
       "      <th>YouTube Cost</th>\n",
       "      <th>YouTube Impression</th>\n",
       "      <th>YouTube Pageviews</th>\n",
       "      <th>Facebook Cost</th>\n",
       "      <th>Facebook Impression</th>\n",
       "      <th>Facebook pageviews</th>\n",
       "      <th>FB Prospecting For Purchase Cost</th>\n",
       "      <th>Twitter Cost</th>\n",
       "      <th>Twitter Impression</th>\n",
       "      <th>Twitter pageviews</th>\n",
       "    </tr>\n",
       "  </thead>\n",
       "  <tbody>\n",
       "    <tr>\n",
       "      <th>1</th>\n",
       "      <td>2020-10-02 00:00:00</td>\n",
       "      <td>13421</td>\n",
       "      <td>21711</td>\n",
       "      <td>301380</td>\n",
       "      <td>3763</td>\n",
       "      <td>8832</td>\n",
       "      <td>118</td>\n",
       "      <td>445</td>\n",
       "      <td>13420.7</td>\n",
       "      <td>0.05</td>\n",
       "      <td>38</td>\n",
       "      <td>0</td>\n",
       "      <td>9720.64</td>\n",
       "      <td>1351883</td>\n",
       "      <td>17717</td>\n",
       "      <td>0</td>\n",
       "      <td>3700</td>\n",
       "      <td>1031555</td>\n",
       "      <td>3516</td>\n",
       "    </tr>\n",
       "    <tr>\n",
       "      <th>2</th>\n",
       "      <td>2020-10-03 00:00:00</td>\n",
       "      <td>14345</td>\n",
       "      <td>21495</td>\n",
       "      <td>301912</td>\n",
       "      <td>3690</td>\n",
       "      <td>8475</td>\n",
       "      <td>50</td>\n",
       "      <td>298</td>\n",
       "      <td>14344.6</td>\n",
       "      <td>0.62</td>\n",
       "      <td>410</td>\n",
       "      <td>0</td>\n",
       "      <td>10644</td>\n",
       "      <td>1388664</td>\n",
       "      <td>17748</td>\n",
       "      <td>0</td>\n",
       "      <td>3700</td>\n",
       "      <td>846274</td>\n",
       "      <td>3534</td>\n",
       "    </tr>\n",
       "    <tr>\n",
       "      <th>3</th>\n",
       "      <td>2020-10-04 00:00:00</td>\n",
       "      <td>16454</td>\n",
       "      <td>23032</td>\n",
       "      <td>316834</td>\n",
       "      <td>3944</td>\n",
       "      <td>8832</td>\n",
       "      <td>66</td>\n",
       "      <td>330</td>\n",
       "      <td>16454</td>\n",
       "      <td>3659.5</td>\n",
       "      <td>609663</td>\n",
       "      <td>982</td>\n",
       "      <td>9096.27</td>\n",
       "      <td>1235405</td>\n",
       "      <td>16047</td>\n",
       "      <td>0</td>\n",
       "      <td>3698.24</td>\n",
       "      <td>781267</td>\n",
       "      <td>3483</td>\n",
       "    </tr>\n",
       "    <tr>\n",
       "      <th>4</th>\n",
       "      <td>2020-10-05 00:00:00</td>\n",
       "      <td>24002</td>\n",
       "      <td>24585</td>\n",
       "      <td>318226</td>\n",
       "      <td>4174</td>\n",
       "      <td>9908</td>\n",
       "      <td>60</td>\n",
       "      <td>427</td>\n",
       "      <td>24002.1</td>\n",
       "      <td>11280.6</td>\n",
       "      <td>4316890</td>\n",
       "      <td>4380</td>\n",
       "      <td>9069.1</td>\n",
       "      <td>1241953</td>\n",
       "      <td>13268</td>\n",
       "      <td>0</td>\n",
       "      <td>3652.43</td>\n",
       "      <td>1114016</td>\n",
       "      <td>3353</td>\n",
       "    </tr>\n",
       "    <tr>\n",
       "      <th>5</th>\n",
       "      <td>2020-10-06 00:00:00</td>\n",
       "      <td>22620</td>\n",
       "      <td>22886</td>\n",
       "      <td>313264</td>\n",
       "      <td>2970</td>\n",
       "      <td>9818</td>\n",
       "      <td>79</td>\n",
       "      <td>576</td>\n",
       "      <td>22619.7</td>\n",
       "      <td>9803.35</td>\n",
       "      <td>5375037</td>\n",
       "      <td>5086</td>\n",
       "      <td>9125.2</td>\n",
       "      <td>1172521</td>\n",
       "      <td>12017</td>\n",
       "      <td>0</td>\n",
       "      <td>3691.19</td>\n",
       "      <td>1015500</td>\n",
       "      <td>3362</td>\n",
       "    </tr>\n",
       "  </tbody>\n",
       "</table>\n",
       "</div>"
      ],
      "text/plain": [
       "                  date  spend  Views Search Volume Keywords Natrual Traffic  \\\n",
       "1  2020-10-02 00:00:00  13421  21711        301380                     3763   \n",
       "2  2020-10-03 00:00:00  14345  21495        301912                     3690   \n",
       "3  2020-10-04 00:00:00  16454  23032        316834                     3944   \n",
       "4  2020-10-05 00:00:00  24002  24585        318226                     4174   \n",
       "5  2020-10-06 00:00:00  22620  22886        313264                     2970   \n",
       "\n",
       "  Keywords Natraul Search Nano Keywords Natrual Traffic  \\\n",
       "1                    8832                           118   \n",
       "2                    8475                            50   \n",
       "3                    8832                            66   \n",
       "4                    9908                            60   \n",
       "5                    9818                            79   \n",
       "\n",
       "  Nano Keywords Natraul Search Upper Funnel Marketing Cost YouTube Cost  \\\n",
       "1                          445                     13420.7         0.05   \n",
       "2                          298                     14344.6         0.62   \n",
       "3                          330                       16454       3659.5   \n",
       "4                          427                     24002.1      11280.6   \n",
       "5                          576                     22619.7      9803.35   \n",
       "\n",
       "  YouTube Impression YouTube Pageviews Facebook Cost Facebook Impression  \\\n",
       "1                 38                 0       9720.64             1351883   \n",
       "2                410                 0         10644             1388664   \n",
       "3             609663               982       9096.27             1235405   \n",
       "4            4316890              4380        9069.1             1241953   \n",
       "5            5375037              5086        9125.2             1172521   \n",
       "\n",
       "  Facebook pageviews FB Prospecting For Purchase Cost Twitter Cost  \\\n",
       "1              17717                                0         3700   \n",
       "2              17748                                0         3700   \n",
       "3              16047                                0      3698.24   \n",
       "4              13268                                0      3652.43   \n",
       "5              12017                                0      3691.19   \n",
       "\n",
       "  Twitter Impression Twitter pageviews  \n",
       "1            1031555              3516  \n",
       "2             846274              3534  \n",
       "3             781267              3483  \n",
       "4            1114016              3353  \n",
       "5            1015500              3362  "
      ]
     },
     "execution_count": 4,
     "metadata": {},
     "output_type": "execute_result"
    }
   ],
   "source": [
    "dat.head()"
   ]
  },
  {
   "cell_type": "markdown",
   "metadata": {},
   "source": [
    "Check the last few row of the dataset"
   ]
  },
  {
   "cell_type": "code",
   "execution_count": 5,
   "metadata": {},
   "outputs": [
    {
     "data": {
      "text/html": [
       "<div>\n",
       "<style scoped>\n",
       "    .dataframe tbody tr th:only-of-type {\n",
       "        vertical-align: middle;\n",
       "    }\n",
       "\n",
       "    .dataframe tbody tr th {\n",
       "        vertical-align: top;\n",
       "    }\n",
       "\n",
       "    .dataframe thead th {\n",
       "        text-align: right;\n",
       "    }\n",
       "</style>\n",
       "<table border=\"1\" class=\"dataframe\">\n",
       "  <thead>\n",
       "    <tr style=\"text-align: right;\">\n",
       "      <th></th>\n",
       "      <th>date</th>\n",
       "      <th>spend</th>\n",
       "      <th>Views</th>\n",
       "      <th>Search Volume</th>\n",
       "      <th>Keywords Natrual Traffic</th>\n",
       "      <th>Keywords Natraul Search</th>\n",
       "      <th>Nano Keywords Natrual Traffic</th>\n",
       "      <th>Nano Keywords Natraul Search</th>\n",
       "      <th>Upper Funnel Marketing Cost</th>\n",
       "      <th>YouTube Cost</th>\n",
       "      <th>YouTube Impression</th>\n",
       "      <th>YouTube Pageviews</th>\n",
       "      <th>Facebook Cost</th>\n",
       "      <th>Facebook Impression</th>\n",
       "      <th>Facebook pageviews</th>\n",
       "      <th>FB Prospecting For Purchase Cost</th>\n",
       "      <th>Twitter Cost</th>\n",
       "      <th>Twitter Impression</th>\n",
       "      <th>Twitter pageviews</th>\n",
       "    </tr>\n",
       "  </thead>\n",
       "  <tbody>\n",
       "    <tr>\n",
       "      <th>87</th>\n",
       "      <td>2020-12-27 00:00:00</td>\n",
       "      <td>63657</td>\n",
       "      <td>33215</td>\n",
       "      <td>410129</td>\n",
       "      <td>4285</td>\n",
       "      <td>11430</td>\n",
       "      <td>134</td>\n",
       "      <td>1048</td>\n",
       "      <td>30967.8</td>\n",
       "      <td>13084.9</td>\n",
       "      <td>2593141</td>\n",
       "      <td>38507</td>\n",
       "      <td>10217.8</td>\n",
       "      <td>1213999</td>\n",
       "      <td>13505</td>\n",
       "      <td>27982.6</td>\n",
       "      <td>7665.1</td>\n",
       "      <td>4476455</td>\n",
       "      <td>8839</td>\n",
       "    </tr>\n",
       "    <tr>\n",
       "      <th>88</th>\n",
       "      <td>2020-12-28 00:00:00</td>\n",
       "      <td>60008</td>\n",
       "      <td>33326</td>\n",
       "      <td>394050</td>\n",
       "      <td>4452</td>\n",
       "      <td>11765</td>\n",
       "      <td>145</td>\n",
       "      <td>1174</td>\n",
       "      <td>27467.2</td>\n",
       "      <td>9819.63</td>\n",
       "      <td>1937147</td>\n",
       "      <td>32355</td>\n",
       "      <td>9837.67</td>\n",
       "      <td>1268204</td>\n",
       "      <td>12780</td>\n",
       "      <td>28262.2</td>\n",
       "      <td>7809.88</td>\n",
       "      <td>4424504</td>\n",
       "      <td>8991</td>\n",
       "    </tr>\n",
       "    <tr>\n",
       "      <th>89</th>\n",
       "      <td>2020-12-29 00:00:00</td>\n",
       "      <td>55600</td>\n",
       "      <td>31866</td>\n",
       "      <td>368405</td>\n",
       "      <td>4320</td>\n",
       "      <td>11365</td>\n",
       "      <td>144</td>\n",
       "      <td>1108</td>\n",
       "      <td>24197.7</td>\n",
       "      <td>8955.18</td>\n",
       "      <td>1679864</td>\n",
       "      <td>28192</td>\n",
       "      <td>9687.41</td>\n",
       "      <td>1111138</td>\n",
       "      <td>12246</td>\n",
       "      <td>28233.7</td>\n",
       "      <td>5555.07</td>\n",
       "      <td>1982253</td>\n",
       "      <td>6409</td>\n",
       "    </tr>\n",
       "    <tr>\n",
       "      <th>90</th>\n",
       "      <td>2020-12-30 00:00:00</td>\n",
       "      <td>53384</td>\n",
       "      <td>29493</td>\n",
       "      <td>343053</td>\n",
       "      <td>3958</td>\n",
       "      <td>10307</td>\n",
       "      <td>128</td>\n",
       "      <td>995</td>\n",
       "      <td>23149.8</td>\n",
       "      <td>8056.09</td>\n",
       "      <td>1401576</td>\n",
       "      <td>25909</td>\n",
       "      <td>9517.32</td>\n",
       "      <td>972703</td>\n",
       "      <td>12366</td>\n",
       "      <td>28213.2</td>\n",
       "      <td>5576.4</td>\n",
       "      <td>2052034</td>\n",
       "      <td>6413</td>\n",
       "    </tr>\n",
       "    <tr>\n",
       "      <th>91</th>\n",
       "      <td>2020-12-31 00:00:00</td>\n",
       "      <td>52051</td>\n",
       "      <td>24240</td>\n",
       "      <td>291548</td>\n",
       "      <td>3099</td>\n",
       "      <td>8708</td>\n",
       "      <td>106</td>\n",
       "      <td>903</td>\n",
       "      <td>21910.9</td>\n",
       "      <td>6347.09</td>\n",
       "      <td>1168726</td>\n",
       "      <td>20641</td>\n",
       "      <td>9163.79</td>\n",
       "      <td>1094827</td>\n",
       "      <td>12430</td>\n",
       "      <td>27599.8</td>\n",
       "      <td>6400</td>\n",
       "      <td>2526062</td>\n",
       "      <td>7630</td>\n",
       "    </tr>\n",
       "  </tbody>\n",
       "</table>\n",
       "</div>"
      ],
      "text/plain": [
       "                   date  spend  Views Search Volume Keywords Natrual Traffic  \\\n",
       "87  2020-12-27 00:00:00  63657  33215        410129                     4285   \n",
       "88  2020-12-28 00:00:00  60008  33326        394050                     4452   \n",
       "89  2020-12-29 00:00:00  55600  31866        368405                     4320   \n",
       "90  2020-12-30 00:00:00  53384  29493        343053                     3958   \n",
       "91  2020-12-31 00:00:00  52051  24240        291548                     3099   \n",
       "\n",
       "   Keywords Natraul Search Nano Keywords Natrual Traffic  \\\n",
       "87                   11430                           134   \n",
       "88                   11765                           145   \n",
       "89                   11365                           144   \n",
       "90                   10307                           128   \n",
       "91                    8708                           106   \n",
       "\n",
       "   Nano Keywords Natraul Search Upper Funnel Marketing Cost YouTube Cost  \\\n",
       "87                         1048                     30967.8      13084.9   \n",
       "88                         1174                     27467.2      9819.63   \n",
       "89                         1108                     24197.7      8955.18   \n",
       "90                          995                     23149.8      8056.09   \n",
       "91                          903                     21910.9      6347.09   \n",
       "\n",
       "   YouTube Impression YouTube Pageviews Facebook Cost Facebook Impression  \\\n",
       "87            2593141             38507       10217.8             1213999   \n",
       "88            1937147             32355       9837.67             1268204   \n",
       "89            1679864             28192       9687.41             1111138   \n",
       "90            1401576             25909       9517.32              972703   \n",
       "91            1168726             20641       9163.79             1094827   \n",
       "\n",
       "   Facebook pageviews FB Prospecting For Purchase Cost Twitter Cost  \\\n",
       "87              13505                          27982.6       7665.1   \n",
       "88              12780                          28262.2      7809.88   \n",
       "89              12246                          28233.7      5555.07   \n",
       "90              12366                          28213.2       5576.4   \n",
       "91              12430                          27599.8         6400   \n",
       "\n",
       "   Twitter Impression Twitter pageviews  \n",
       "87            4476455              8839  \n",
       "88            4424504              8991  \n",
       "89            1982253              6409  \n",
       "90            2052034              6413  \n",
       "91            2526062              7630  "
      ]
     },
     "execution_count": 5,
     "metadata": {},
     "output_type": "execute_result"
    }
   ],
   "source": [
    "dat.tail()"
   ]
  },
  {
   "cell_type": "markdown",
   "metadata": {},
   "source": [
    "Explore the data"
   ]
  },
  {
   "cell_type": "code",
   "execution_count": 6,
   "metadata": {},
   "outputs": [
    {
     "data": {
      "text/plain": [
       "(91, 19)"
      ]
     },
     "execution_count": 6,
     "metadata": {},
     "output_type": "execute_result"
    }
   ],
   "source": [
    "dat.shape"
   ]
  },
  {
   "cell_type": "markdown",
   "metadata": {},
   "source": [
    "There are 91 rows. There are 19 columns.\n"
   ]
  },
  {
   "cell_type": "code",
   "execution_count": 7,
   "metadata": {},
   "outputs": [
    {
     "name": "stdout",
     "output_type": "stream",
     "text": [
      "<class 'pandas.core.frame.DataFrame'>\n",
      "Int64Index: 91 entries, 1 to 91\n",
      "Data columns (total 19 columns):\n",
      " #   Column                            Non-Null Count  Dtype \n",
      "---  ------                            --------------  ----- \n",
      " 0   date                              91 non-null     object\n",
      " 1   spend                             91 non-null     object\n",
      " 2   Views                             91 non-null     object\n",
      " 3   Search Volume                     91 non-null     object\n",
      " 4   Keywords Natrual Traffic          91 non-null     object\n",
      " 5   Keywords Natraul Search           91 non-null     object\n",
      " 6   Nano Keywords Natrual Traffic     91 non-null     object\n",
      " 7   Nano Keywords Natraul Search      91 non-null     object\n",
      " 8   Upper Funnel Marketing Cost       91 non-null     object\n",
      " 9   YouTube Cost                      91 non-null     object\n",
      " 10  YouTube Impression                91 non-null     object\n",
      " 11  YouTube Pageviews                 91 non-null     object\n",
      " 12  Facebook Cost                     91 non-null     object\n",
      " 13  Facebook Impression               91 non-null     object\n",
      " 14  Facebook pageviews                91 non-null     object\n",
      " 15  FB Prospecting For Purchase Cost  91 non-null     object\n",
      " 16  Twitter Cost                      91 non-null     object\n",
      " 17  Twitter Impression                91 non-null     object\n",
      " 18  Twitter pageviews                 91 non-null     object\n",
      "dtypes: object(19)\n",
      "memory usage: 14.2+ KB\n"
     ]
    }
   ],
   "source": [
    "dat.info()"
   ]
  },
  {
   "cell_type": "code",
   "execution_count": 8,
   "metadata": {},
   "outputs": [],
   "source": [
    "# Change the type of the columns\n",
    "# Drop the date column because it is not useful for the prediction\n",
    "dat = dat.iloc[:, 1:].astype('int64')"
   ]
  },
  {
   "cell_type": "code",
   "execution_count": 9,
   "metadata": {},
   "outputs": [
    {
     "data": {
      "text/html": [
       "<div>\n",
       "<style scoped>\n",
       "    .dataframe tbody tr th:only-of-type {\n",
       "        vertical-align: middle;\n",
       "    }\n",
       "\n",
       "    .dataframe tbody tr th {\n",
       "        vertical-align: top;\n",
       "    }\n",
       "\n",
       "    .dataframe thead th {\n",
       "        text-align: right;\n",
       "    }\n",
       "</style>\n",
       "<table border=\"1\" class=\"dataframe\">\n",
       "  <thead>\n",
       "    <tr style=\"text-align: right;\">\n",
       "      <th></th>\n",
       "      <th>spend</th>\n",
       "      <th>Views</th>\n",
       "      <th>Search Volume</th>\n",
       "      <th>Keywords Natrual Traffic</th>\n",
       "      <th>Keywords Natraul Search</th>\n",
       "      <th>Nano Keywords Natrual Traffic</th>\n",
       "      <th>Nano Keywords Natraul Search</th>\n",
       "      <th>Upper Funnel Marketing Cost</th>\n",
       "      <th>YouTube Cost</th>\n",
       "      <th>YouTube Impression</th>\n",
       "      <th>YouTube Pageviews</th>\n",
       "      <th>Facebook Cost</th>\n",
       "      <th>Facebook Impression</th>\n",
       "      <th>Facebook pageviews</th>\n",
       "      <th>FB Prospecting For Purchase Cost</th>\n",
       "      <th>Twitter Cost</th>\n",
       "      <th>Twitter Impression</th>\n",
       "      <th>Twitter pageviews</th>\n",
       "    </tr>\n",
       "  </thead>\n",
       "  <tbody>\n",
       "    <tr>\n",
       "      <th>count</th>\n",
       "      <td>91.000000</td>\n",
       "      <td>91.000000</td>\n",
       "      <td>91.000000</td>\n",
       "      <td>91.000000</td>\n",
       "      <td>91.000000</td>\n",
       "      <td>91.000000</td>\n",
       "      <td>91.000000</td>\n",
       "      <td>91.000000</td>\n",
       "      <td>91.000000</td>\n",
       "      <td>9.100000e+01</td>\n",
       "      <td>91.000000</td>\n",
       "      <td>91.000000</td>\n",
       "      <td>9.100000e+01</td>\n",
       "      <td>91.000000</td>\n",
       "      <td>91.000000</td>\n",
       "      <td>91.000000</td>\n",
       "      <td>9.100000e+01</td>\n",
       "      <td>91.000000</td>\n",
       "    </tr>\n",
       "    <tr>\n",
       "      <th>mean</th>\n",
       "      <td>50073.208791</td>\n",
       "      <td>28992.395604</td>\n",
       "      <td>368472.406593</td>\n",
       "      <td>4633.791209</td>\n",
       "      <td>12522.054945</td>\n",
       "      <td>219.417582</td>\n",
       "      <td>1491.120879</td>\n",
       "      <td>35826.758242</td>\n",
       "      <td>11707.879121</td>\n",
       "      <td>2.509655e+06</td>\n",
       "      <td>16827.450549</td>\n",
       "      <td>17669.230769</td>\n",
       "      <td>1.936818e+06</td>\n",
       "      <td>16942.285714</td>\n",
       "      <td>12661.010989</td>\n",
       "      <td>6448.725275</td>\n",
       "      <td>2.228294e+06</td>\n",
       "      <td>7160.714286</td>\n",
       "    </tr>\n",
       "    <tr>\n",
       "      <th>std</th>\n",
       "      <td>24696.167019</td>\n",
       "      <td>5009.914426</td>\n",
       "      <td>39281.402763</td>\n",
       "      <td>1298.694272</td>\n",
       "      <td>2553.828774</td>\n",
       "      <td>164.458240</td>\n",
       "      <td>881.970128</td>\n",
       "      <td>23160.101281</td>\n",
       "      <td>10835.811001</td>\n",
       "      <td>2.548955e+06</td>\n",
       "      <td>11979.965426</td>\n",
       "      <td>12294.158658</td>\n",
       "      <td>1.294661e+06</td>\n",
       "      <td>10024.108179</td>\n",
       "      <td>9419.456144</td>\n",
       "      <td>3809.295788</td>\n",
       "      <td>1.343027e+06</td>\n",
       "      <td>4019.037439</td>\n",
       "    </tr>\n",
       "    <tr>\n",
       "      <th>min</th>\n",
       "      <td>281.000000</td>\n",
       "      <td>20200.000000</td>\n",
       "      <td>291548.000000</td>\n",
       "      <td>2569.000000</td>\n",
       "      <td>8475.000000</td>\n",
       "      <td>39.000000</td>\n",
       "      <td>263.000000</td>\n",
       "      <td>281.000000</td>\n",
       "      <td>0.000000</td>\n",
       "      <td>3.800000e+01</td>\n",
       "      <td>0.000000</td>\n",
       "      <td>92.000000</td>\n",
       "      <td>1.444100e+04</td>\n",
       "      <td>342.000000</td>\n",
       "      <td>0.000000</td>\n",
       "      <td>99.000000</td>\n",
       "      <td>3.149600e+04</td>\n",
       "      <td>187.000000</td>\n",
       "    </tr>\n",
       "    <tr>\n",
       "      <th>25%</th>\n",
       "      <td>30321.500000</td>\n",
       "      <td>25325.000000</td>\n",
       "      <td>350852.500000</td>\n",
       "      <td>3891.000000</td>\n",
       "      <td>11065.000000</td>\n",
       "      <td>125.500000</td>\n",
       "      <td>989.500000</td>\n",
       "      <td>19857.000000</td>\n",
       "      <td>4952.500000</td>\n",
       "      <td>8.440435e+05</td>\n",
       "      <td>6083.000000</td>\n",
       "      <td>9370.500000</td>\n",
       "      <td>1.047952e+06</td>\n",
       "      <td>10358.500000</td>\n",
       "      <td>2545.000000</td>\n",
       "      <td>3667.500000</td>\n",
       "      <td>1.080438e+06</td>\n",
       "      <td>3575.500000</td>\n",
       "    </tr>\n",
       "    <tr>\n",
       "      <th>50%</th>\n",
       "      <td>47056.000000</td>\n",
       "      <td>28552.000000</td>\n",
       "      <td>364414.000000</td>\n",
       "      <td>4478.000000</td>\n",
       "      <td>12181.000000</td>\n",
       "      <td>171.000000</td>\n",
       "      <td>1387.000000</td>\n",
       "      <td>24197.000000</td>\n",
       "      <td>6778.000000</td>\n",
       "      <td>1.831764e+06</td>\n",
       "      <td>16171.000000</td>\n",
       "      <td>10235.000000</td>\n",
       "      <td>1.268204e+06</td>\n",
       "      <td>12212.000000</td>\n",
       "      <td>13191.000000</td>\n",
       "      <td>5576.000000</td>\n",
       "      <td>1.884961e+06</td>\n",
       "      <td>6816.000000</td>\n",
       "    </tr>\n",
       "    <tr>\n",
       "      <th>75%</th>\n",
       "      <td>71382.500000</td>\n",
       "      <td>31679.500000</td>\n",
       "      <td>389594.000000</td>\n",
       "      <td>5092.500000</td>\n",
       "      <td>13812.000000</td>\n",
       "      <td>273.000000</td>\n",
       "      <td>1903.500000</td>\n",
       "      <td>52223.500000</td>\n",
       "      <td>14514.500000</td>\n",
       "      <td>3.511936e+06</td>\n",
       "      <td>26646.500000</td>\n",
       "      <td>27660.000000</td>\n",
       "      <td>2.988021e+06</td>\n",
       "      <td>23749.500000</td>\n",
       "      <td>19907.000000</td>\n",
       "      <td>9030.000000</td>\n",
       "      <td>3.251280e+06</td>\n",
       "      <td>9471.500000</td>\n",
       "    </tr>\n",
       "    <tr>\n",
       "      <th>max</th>\n",
       "      <td>97283.000000</td>\n",
       "      <td>47691.000000</td>\n",
       "      <td>502217.000000</td>\n",
       "      <td>10235.000000</td>\n",
       "      <td>21994.000000</td>\n",
       "      <td>1223.000000</td>\n",
       "      <td>6222.000000</td>\n",
       "      <td>97283.000000</td>\n",
       "      <td>35537.000000</td>\n",
       "      <td>1.551021e+07</td>\n",
       "      <td>42285.000000</td>\n",
       "      <td>46836.000000</td>\n",
       "      <td>6.137848e+06</td>\n",
       "      <td>44559.000000</td>\n",
       "      <td>28376.000000</td>\n",
       "      <td>15589.000000</td>\n",
       "      <td>6.267401e+06</td>\n",
       "      <td>18524.000000</td>\n",
       "    </tr>\n",
       "  </tbody>\n",
       "</table>\n",
       "</div>"
      ],
      "text/plain": [
       "              spend         Views  Search Volume  Keywords Natrual Traffic  \\\n",
       "count     91.000000     91.000000      91.000000                 91.000000   \n",
       "mean   50073.208791  28992.395604  368472.406593               4633.791209   \n",
       "std    24696.167019   5009.914426   39281.402763               1298.694272   \n",
       "min      281.000000  20200.000000  291548.000000               2569.000000   \n",
       "25%    30321.500000  25325.000000  350852.500000               3891.000000   \n",
       "50%    47056.000000  28552.000000  364414.000000               4478.000000   \n",
       "75%    71382.500000  31679.500000  389594.000000               5092.500000   \n",
       "max    97283.000000  47691.000000  502217.000000              10235.000000   \n",
       "\n",
       "       Keywords Natraul Search  Nano Keywords Natrual Traffic  \\\n",
       "count                91.000000                      91.000000   \n",
       "mean              12522.054945                     219.417582   \n",
       "std                2553.828774                     164.458240   \n",
       "min                8475.000000                      39.000000   \n",
       "25%               11065.000000                     125.500000   \n",
       "50%               12181.000000                     171.000000   \n",
       "75%               13812.000000                     273.000000   \n",
       "max               21994.000000                    1223.000000   \n",
       "\n",
       "       Nano Keywords Natraul Search  Upper Funnel Marketing Cost  \\\n",
       "count                     91.000000                    91.000000   \n",
       "mean                    1491.120879                 35826.758242   \n",
       "std                      881.970128                 23160.101281   \n",
       "min                      263.000000                   281.000000   \n",
       "25%                      989.500000                 19857.000000   \n",
       "50%                     1387.000000                 24197.000000   \n",
       "75%                     1903.500000                 52223.500000   \n",
       "max                     6222.000000                 97283.000000   \n",
       "\n",
       "       YouTube Cost  YouTube Impression  YouTube Pageviews  Facebook Cost  \\\n",
       "count     91.000000        9.100000e+01          91.000000      91.000000   \n",
       "mean   11707.879121        2.509655e+06       16827.450549   17669.230769   \n",
       "std    10835.811001        2.548955e+06       11979.965426   12294.158658   \n",
       "min        0.000000        3.800000e+01           0.000000      92.000000   \n",
       "25%     4952.500000        8.440435e+05        6083.000000    9370.500000   \n",
       "50%     6778.000000        1.831764e+06       16171.000000   10235.000000   \n",
       "75%    14514.500000        3.511936e+06       26646.500000   27660.000000   \n",
       "max    35537.000000        1.551021e+07       42285.000000   46836.000000   \n",
       "\n",
       "       Facebook Impression  Facebook pageviews  \\\n",
       "count         9.100000e+01           91.000000   \n",
       "mean          1.936818e+06        16942.285714   \n",
       "std           1.294661e+06        10024.108179   \n",
       "min           1.444100e+04          342.000000   \n",
       "25%           1.047952e+06        10358.500000   \n",
       "50%           1.268204e+06        12212.000000   \n",
       "75%           2.988021e+06        23749.500000   \n",
       "max           6.137848e+06        44559.000000   \n",
       "\n",
       "       FB Prospecting For Purchase Cost  Twitter Cost  Twitter Impression  \\\n",
       "count                         91.000000     91.000000        9.100000e+01   \n",
       "mean                       12661.010989   6448.725275        2.228294e+06   \n",
       "std                         9419.456144   3809.295788        1.343027e+06   \n",
       "min                            0.000000     99.000000        3.149600e+04   \n",
       "25%                         2545.000000   3667.500000        1.080438e+06   \n",
       "50%                        13191.000000   5576.000000        1.884961e+06   \n",
       "75%                        19907.000000   9030.000000        3.251280e+06   \n",
       "max                        28376.000000  15589.000000        6.267401e+06   \n",
       "\n",
       "       Twitter pageviews  \n",
       "count          91.000000  \n",
       "mean         7160.714286  \n",
       "std          4019.037439  \n",
       "min           187.000000  \n",
       "25%          3575.500000  \n",
       "50%          6816.000000  \n",
       "75%          9471.500000  \n",
       "max         18524.000000  "
      ]
     },
     "execution_count": 9,
     "metadata": {},
     "output_type": "execute_result"
    }
   ],
   "source": [
    "dat.describe()"
   ]
  },
  {
   "cell_type": "code",
   "execution_count": 10,
   "metadata": {},
   "outputs": [],
   "source": [
    "# Drop the outlier for youtube cost \n",
    "\n",
    "dat = dat[(dat['YouTube Cost'] > 1)]"
   ]
  },
  {
   "cell_type": "code",
   "execution_count": 11,
   "metadata": {},
   "outputs": [
    {
     "data": {
      "text/html": [
       "<div>\n",
       "<style scoped>\n",
       "    .dataframe tbody tr th:only-of-type {\n",
       "        vertical-align: middle;\n",
       "    }\n",
       "\n",
       "    .dataframe tbody tr th {\n",
       "        vertical-align: top;\n",
       "    }\n",
       "\n",
       "    .dataframe thead th {\n",
       "        text-align: right;\n",
       "    }\n",
       "</style>\n",
       "<table border=\"1\" class=\"dataframe\">\n",
       "  <thead>\n",
       "    <tr style=\"text-align: right;\">\n",
       "      <th></th>\n",
       "      <th>spend</th>\n",
       "      <th>Views to Visits</th>\n",
       "      <th>Search Volume</th>\n",
       "      <th>Keywords Natrual Traffic</th>\n",
       "      <th>Keywords Natraul Search</th>\n",
       "      <th>Nano Keywords Natrual Traffic</th>\n",
       "      <th>Nano Keywords Natraul Search</th>\n",
       "      <th>Upper Funnel Marketing Cost</th>\n",
       "      <th>YouTube Cost</th>\n",
       "      <th>YouTube Impression</th>\n",
       "      <th>YouTube Pageviews</th>\n",
       "      <th>Facebook Cost</th>\n",
       "      <th>Facebook Impression</th>\n",
       "      <th>Facebook pageviews</th>\n",
       "      <th>FB Prospecting For Purchase Cost</th>\n",
       "      <th>Twitter Cost</th>\n",
       "      <th>Twitter Impression</th>\n",
       "      <th>Twitter pageviews</th>\n",
       "    </tr>\n",
       "  </thead>\n",
       "  <tbody>\n",
       "    <tr>\n",
       "      <th>3</th>\n",
       "      <td>16454</td>\n",
       "      <td>23032</td>\n",
       "      <td>316834</td>\n",
       "      <td>3944</td>\n",
       "      <td>8832</td>\n",
       "      <td>66</td>\n",
       "      <td>330</td>\n",
       "      <td>16454</td>\n",
       "      <td>3659</td>\n",
       "      <td>609663</td>\n",
       "      <td>982</td>\n",
       "      <td>9096</td>\n",
       "      <td>1235405</td>\n",
       "      <td>16047</td>\n",
       "      <td>0</td>\n",
       "      <td>3698</td>\n",
       "      <td>781267</td>\n",
       "      <td>3483</td>\n",
       "    </tr>\n",
       "    <tr>\n",
       "      <th>4</th>\n",
       "      <td>24002</td>\n",
       "      <td>24585</td>\n",
       "      <td>318226</td>\n",
       "      <td>4174</td>\n",
       "      <td>9908</td>\n",
       "      <td>60</td>\n",
       "      <td>427</td>\n",
       "      <td>24002</td>\n",
       "      <td>11280</td>\n",
       "      <td>4316890</td>\n",
       "      <td>4380</td>\n",
       "      <td>9069</td>\n",
       "      <td>1241953</td>\n",
       "      <td>13268</td>\n",
       "      <td>0</td>\n",
       "      <td>3652</td>\n",
       "      <td>1114016</td>\n",
       "      <td>3353</td>\n",
       "    </tr>\n",
       "    <tr>\n",
       "      <th>5</th>\n",
       "      <td>22620</td>\n",
       "      <td>22886</td>\n",
       "      <td>313264</td>\n",
       "      <td>2970</td>\n",
       "      <td>9818</td>\n",
       "      <td>79</td>\n",
       "      <td>576</td>\n",
       "      <td>22619</td>\n",
       "      <td>9803</td>\n",
       "      <td>5375037</td>\n",
       "      <td>5086</td>\n",
       "      <td>9125</td>\n",
       "      <td>1172521</td>\n",
       "      <td>12017</td>\n",
       "      <td>0</td>\n",
       "      <td>3691</td>\n",
       "      <td>1015500</td>\n",
       "      <td>3362</td>\n",
       "    </tr>\n",
       "    <tr>\n",
       "      <th>6</th>\n",
       "      <td>22779</td>\n",
       "      <td>21748</td>\n",
       "      <td>306423</td>\n",
       "      <td>2724</td>\n",
       "      <td>9169</td>\n",
       "      <td>76</td>\n",
       "      <td>510</td>\n",
       "      <td>22778</td>\n",
       "      <td>9864</td>\n",
       "      <td>9504239</td>\n",
       "      <td>4739</td>\n",
       "      <td>9215</td>\n",
       "      <td>1200846</td>\n",
       "      <td>11748</td>\n",
       "      <td>0</td>\n",
       "      <td>3699</td>\n",
       "      <td>1171164</td>\n",
       "      <td>3337</td>\n",
       "    </tr>\n",
       "    <tr>\n",
       "      <th>7</th>\n",
       "      <td>20149</td>\n",
       "      <td>21109</td>\n",
       "      <td>309571</td>\n",
       "      <td>2623</td>\n",
       "      <td>9096</td>\n",
       "      <td>55</td>\n",
       "      <td>316</td>\n",
       "      <td>20149</td>\n",
       "      <td>7118</td>\n",
       "      <td>4712225</td>\n",
       "      <td>5584</td>\n",
       "      <td>9347</td>\n",
       "      <td>1212496</td>\n",
       "      <td>11762</td>\n",
       "      <td>0</td>\n",
       "      <td>3683</td>\n",
       "      <td>1148754</td>\n",
       "      <td>3310</td>\n",
       "    </tr>\n",
       "  </tbody>\n",
       "</table>\n",
       "</div>"
      ],
      "text/plain": [
       "   spend  Views to Visits  Search Volume  Keywords Natrual Traffic  \\\n",
       "3  16454            23032         316834                      3944   \n",
       "4  24002            24585         318226                      4174   \n",
       "5  22620            22886         313264                      2970   \n",
       "6  22779            21748         306423                      2724   \n",
       "7  20149            21109         309571                      2623   \n",
       "\n",
       "   Keywords Natraul Search  Nano Keywords Natrual Traffic  \\\n",
       "3                     8832                             66   \n",
       "4                     9908                             60   \n",
       "5                     9818                             79   \n",
       "6                     9169                             76   \n",
       "7                     9096                             55   \n",
       "\n",
       "   Nano Keywords Natraul Search  Upper Funnel Marketing Cost  YouTube Cost  \\\n",
       "3                           330                        16454          3659   \n",
       "4                           427                        24002         11280   \n",
       "5                           576                        22619          9803   \n",
       "6                           510                        22778          9864   \n",
       "7                           316                        20149          7118   \n",
       "\n",
       "   YouTube Impression  YouTube Pageviews  Facebook Cost  Facebook Impression  \\\n",
       "3              609663                982           9096              1235405   \n",
       "4             4316890               4380           9069              1241953   \n",
       "5             5375037               5086           9125              1172521   \n",
       "6             9504239               4739           9215              1200846   \n",
       "7             4712225               5584           9347              1212496   \n",
       "\n",
       "   Facebook pageviews  FB Prospecting For Purchase Cost  Twitter Cost  \\\n",
       "3               16047                                 0          3698   \n",
       "4               13268                                 0          3652   \n",
       "5               12017                                 0          3691   \n",
       "6               11748                                 0          3699   \n",
       "7               11762                                 0          3683   \n",
       "\n",
       "   Twitter Impression  Twitter pageviews  \n",
       "3              781267               3483  \n",
       "4             1114016               3353  \n",
       "5             1015500               3362  \n",
       "6             1171164               3337  \n",
       "7             1148754               3310  "
      ]
     },
     "execution_count": 11,
     "metadata": {},
     "output_type": "execute_result"
    }
   ],
   "source": [
    "# Rename Views to Views to Visits\n",
    "dat.rename(columns ={'Views': 'Views to Visits'}, inplace = True)\n",
    "dat.head(5)"
   ]
  },
  {
   "cell_type": "markdown",
   "metadata": {},
   "source": [
    "### Exploratory Data Analytics\n",
    "\n",
    "**Understanding the data**\n",
    "1. Identify multicollinearity\n",
    "\n",
    "2. Identify if some predictors directly have a strong association with the response variable (SalePrice)\n",
    "\n",
    "**Visualising Numeric Variables**\n",
    "\n",
    "If including a pairplot of all the numeric variables, there will be a plot containing 19 x 19 figures. It tooks a long time to run and it is hard to visualize as well. Thus, I am going to obtain the correlation matrix, and for highly correlated variables, plot a scatter plot to visualize the relation.\n"
   ]
  },
  {
   "cell_type": "code",
   "execution_count": 12,
   "metadata": {
    "scrolled": false
   },
   "outputs": [
    {
     "data": {
      "image/png": "[encoded data removed]",
      "text/plain": [
       "<Figure size 1296x648 with 2 Axes>"
      ]
     },
     "metadata": {
      "needs_background": "light"
     },
     "output_type": "display_data"
    }
   ],
   "source": [
    "# correlation coefficients to see which variables are highly correlated\n",
    "\n",
    "plt.figure(figsize = (18, 9))\n",
    "sns.heatmap(dat.corr(), annot = True, cmap=\"YlGnBu\")\n",
    "plt.title(\"Correlation Matrix of the House Data\", fontsize = 30)\n",
    "plt.show()"
   ]
  },
  {
   "cell_type": "markdown",
   "metadata": {},
   "source": [
    "Figure out what variable has high correlation with Views, which means that the absolute value of the correlation coefficient between this variable and SalePrice is larger than or equal to 0.5 "
   ]
  },
  {
   "cell_type": "code",
   "execution_count": 13,
   "metadata": {},
   "outputs": [
    {
     "data": {
      "text/plain": [
       "spend                          0.552115\n",
       "Views to Visits                1.000000\n",
       "Search Volume                  0.934117\n",
       "Keywords Natrual Traffic       0.893262\n",
       "Keywords Natraul Search        0.863756\n",
       "Upper Funnel Marketing Cost    0.502629\n",
       "Facebook Cost                  0.612942\n",
       "Facebook Impression            0.515092\n",
       "Facebook pageviews             0.552918\n",
       "Name: Views to Visits, dtype: float64"
      ]
     },
     "execution_count": 13,
     "metadata": {},
     "output_type": "execute_result"
    }
   ],
   "source": [
    "dat.corr().loc['Views to Visits', :][abs(dat.corr().loc['Views to Visits', :]) >= 0.5]"
   ]
  },
  {
   "cell_type": "markdown",
   "metadata": {},
   "source": [
    "The variable listed above except Views and Search Volume might be the important factors that drive the Views."
   ]
  },
  {
   "cell_type": "markdown",
   "metadata": {},
   "source": [
    "Figure out what variable has high correlation with Search Volume, which means that the absolute value of the correlation coefficient between this variable and SalePrice is larger than or equal to 0.5"
   ]
  },
  {
   "cell_type": "code",
   "execution_count": 14,
   "metadata": {},
   "outputs": [
    {
     "data": {
      "text/plain": [
       "Views to Visits             0.934117\n",
       "Search Volume               1.000000\n",
       "Keywords Natrual Traffic    0.809665\n",
       "Keywords Natraul Search     0.826224\n",
       "Name: Search Volume, dtype: float64"
      ]
     },
     "execution_count": 14,
     "metadata": {},
     "output_type": "execute_result"
    }
   ],
   "source": [
    "dat.corr().loc['Search Volume', :][abs(dat.corr().loc['Search Volume', :]) >= 0.5]"
   ]
  },
  {
   "cell_type": "markdown",
   "metadata": {},
   "source": [
    "The variable listed above except Views and Seatch Volume might be the important factors that drive the Search Volume."
   ]
  },
  {
   "cell_type": "code",
   "execution_count": 15,
   "metadata": {},
   "outputs": [
    {
     "data": {
      "image/png": "[encoded data removed]",
      "text/plain": [
       "<Figure size 1440x864 with 4 Axes>"
      ]
     },
     "metadata": {
      "needs_background": "light"
     },
     "output_type": "display_data"
    }
   ],
   "source": [
    "plt.figure(figsize=(20, 12))\n",
    "plt.subplot(2,2,1)\n",
    "sns.scatterplot(data=dat, x=\"spend\", y=\"Views to Visits\")\n",
    "plt.subplot(2,2,2)\n",
    "sns.scatterplot(data=dat, x=\"Keywords Natrual Traffic\", y=\"Views to Visits\")\n",
    "plt.subplot(2,2,3)\n",
    "sns.scatterplot(data=dat, x=\"Keywords Natraul Search\", y=\"Views to Visits\")\n",
    "plt.subplot(2,2,4)\n",
    "sns.scatterplot(data=dat, x=\"Facebook Cost\", y=\"Views to Visits\")\n",
    "plt.show()"
   ]
  },
  {
   "cell_type": "markdown",
   "metadata": {},
   "source": [
    "I only plotted a few plots of the variables that are highly correlated with Views. However, these plots amplify that these variables are highly correlated with Views."
   ]
  },
  {
   "cell_type": "code",
   "execution_count": 16,
   "metadata": {},
   "outputs": [
    {
     "data": {
      "image/png": "[encoded data removed]",
      "text/plain": [
       "<Figure size 1440x432 with 2 Axes>"
      ]
     },
     "metadata": {
      "needs_background": "light"
     },
     "output_type": "display_data"
    }
   ],
   "source": [
    "plt.figure(figsize=(20, 6))\n",
    "plt.subplot(1,2,1)\n",
    "sns.scatterplot(data=dat, x=\"Keywords Natrual Traffic\", y=\"Search Volume\")\n",
    "plt.subplot(1,2,2)\n",
    "sns.scatterplot(data=dat, x=\"Keywords Natraul Search\", y=\"Search Volume\")\n",
    "plt.show()"
   ]
  },
  {
   "cell_type": "markdown",
   "metadata": {},
   "source": [
    "These plots amplify that these variables are highly correlated with Search Volume."
   ]
  },
  {
   "cell_type": "markdown",
   "metadata": {},
   "source": [
    "### Model Building"
   ]
  },
  {
   "cell_type": "markdown",
   "metadata": {},
   "source": [
    "**Train and Test Split**"
   ]
  },
  {
   "cell_type": "code",
   "execution_count": 17,
   "metadata": {},
   "outputs": [],
   "source": [
    "from sklearn.model_selection import train_test_split\n",
    "\n",
    "# Specify this so that the train and test data set always have the same rows, respectively\n",
    "np.random.seed(0)\n",
    "df_train, df_test = train_test_split(dat, train_size = 0.7, test_size = 0.3, random_state = 100)"
   ]
  },
  {
   "cell_type": "markdown",
   "metadata": {},
   "source": [
    "**Standardize the numeric variables**"
   ]
  },
  {
   "cell_type": "code",
   "execution_count": 18,
   "metadata": {},
   "outputs": [],
   "source": [
    "from sklearn.preprocessing import MinMaxScaler\n",
    "scaler = MinMaxScaler()\n",
    "val = scaler.fit_transform(df_train)\n",
    "df_train = pd.DataFrame(val, index=df_train.index, columns=df_train.columns)"
   ]
  },
  {
   "cell_type": "markdown",
   "metadata": {},
   "source": [
    "**Dividing into X and Y sets for the model building**"
   ]
  },
  {
   "cell_type": "code",
   "execution_count": 19,
   "metadata": {},
   "outputs": [],
   "source": [
    "y_train_views = df_train.pop('Views to Visits')\n",
    "y_train_searchvolume = df_train.pop('Search Volume')\n",
    "X_train = df_train"
   ]
  },
  {
   "cell_type": "code",
   "execution_count": 20,
   "metadata": {},
   "outputs": [],
   "source": [
    "val = scaler.fit_transform(df_test)\n",
    "df_test = pd.DataFrame(val, index=df_test.index, columns=df_test.columns)\n",
    "y_test_views = df_test.pop('Views to Visits')\n",
    "y_test_searchvolume = df_test.pop('Search Volume')\n",
    "X_test = df_test"
   ]
  },
  {
   "cell_type": "markdown",
   "metadata": {},
   "source": [
    "## Model For Search Volume"
   ]
  },
  {
   "cell_type": "markdown",
   "metadata": {},
   "source": [
    "### Model 1"
   ]
  },
  {
   "cell_type": "markdown",
   "metadata": {},
   "source": [
    "**Visualizing the Features Importance For Views**"
   ]
  },
  {
   "cell_type": "code",
   "execution_count": 21,
   "metadata": {},
   "outputs": [
    {
     "data": {
      "image/png": "[encoded data removed]",
      "text/plain": [
       "<Figure size 720x720 with 1 Axes>"
      ]
     },
     "metadata": {
      "needs_background": "light"
     },
     "output_type": "display_data"
    }
   ],
   "source": [
    "# Building Random Forest model\n",
    "from sklearn.ensemble import RandomForestRegressor\n",
    "from sklearn.model_selection import train_test_split\n",
    "from sklearn.metrics import mean_absolute_error as mae\n",
    "model = RandomForestRegressor(random_state=1)\n",
    "model.fit(X_train, y_train_views)\n",
    "pred = model.predict(X_test)\n",
    "# Visualizing Feature Importance\n",
    "feat_importances = pd.Series(model.feature_importances_, index=X_train.columns)\n",
    "feat_importances.nlargest(17).plot(kind='barh',figsize=(10,10));"
   ]
  },
  {
   "cell_type": "code",
   "execution_count": 22,
   "metadata": {},
   "outputs": [
    {
     "name": "stdout",
     "output_type": "stream",
     "text": [
      "                                 OLS Regression Results                                \n",
      "=======================================================================================\n",
      "Dep. Variable:        Views to Visits   R-squared (uncentered):                   0.954\n",
      "Model:                            OLS   Adj. R-squared (uncentered):              0.949\n",
      "Method:                 Least Squares   F-statistic:                              191.5\n",
      "Date:                Sat, 03 Jul 2021   Prob (F-statistic):                    1.92e-35\n",
      "Time:                        22:02:39   Log-Likelihood:                          57.360\n",
      "No. Observations:                  62   AIC:                                     -102.7\n",
      "Df Residuals:                      56   BIC:                                     -89.96\n",
      "Df Model:                           6                                                  \n",
      "Covariance Type:            nonrobust                                                  \n",
      "====================================================================================================\n",
      "                                       coef    std err          t      P>|t|      [0.025      0.975]\n",
      "----------------------------------------------------------------------------------------------------\n",
      "Keywords Natrual Traffic             0.6541      0.168      3.895      0.000       0.318       0.990\n",
      "Keywords Natraul Search              0.1658      0.195      0.850      0.399      -0.225       0.557\n",
      "Twitter Impression                   0.1391      0.082      1.688      0.097      -0.026       0.304\n",
      "spend                               -0.0572      0.087     -0.655      0.515      -0.232       0.118\n",
      "FB Prospecting For Purchase Cost     0.1551      0.040      3.829      0.000       0.074       0.236\n",
      "Twitter pageviews                   -0.0719      0.115     -0.627      0.533      -0.302       0.158\n",
      "==============================================================================\n",
      "Omnibus:                        4.663   Durbin-Watson:                   1.813\n",
      "Prob(Omnibus):                  0.097   Jarque-Bera (JB):                3.728\n",
      "Skew:                           0.482   Prob(JB):                        0.155\n",
      "Kurtosis:                       3.718   Cond. No.                         21.6\n",
      "==============================================================================\n",
      "\n",
      "Notes:\n",
      "[1] R² is computed without centering (uncentered) since the model does not contain a constant.\n",
      "[2] Standard Errors assume that the covariance matrix of the errors is correctly specified.\n"
     ]
    }
   ],
   "source": [
    "views_feature = feat_importances.nlargest(6).index\n",
    "X_train_views = X_train[views_feature]\n",
    "mdl_views = sm.OLS(y_train_views, X_train_views).fit()\n",
    "print(mdl_views.summary())"
   ]
  },
  {
   "cell_type": "markdown",
   "metadata": {},
   "source": [
    "### Model 2"
   ]
  },
  {
   "cell_type": "markdown",
   "metadata": {},
   "source": [
    "**Cross Validation and Recursive Feature Elimination**\n",
    "\n",
    "Use cross validation and recursive feature elimination to select best number of features and the features "
   ]
  },
  {
   "cell_type": "code",
   "execution_count": 23,
   "metadata": {},
   "outputs": [],
   "source": [
    "from sklearn.model_selection import KFold\n",
    "from sklearn.base import clone\n",
    "\n",
    "# Calculates RMSE from actual and predicted values\n",
    "def rmse(actual, predicted):\n",
    "    return np.sqrt(np.mean((actual - predicted) ** 2))\n",
    "\n",
    "def cross_validate_rmse(model, X, y):\n",
    "    model = clone(model)\n",
    "    five_fold = KFold(n_splits=5)\n",
    "    rmse_values = []\n",
    "    for tr_ind, va_ind in five_fold.split(X):\n",
    "        model.fit(X.iloc[tr_ind,:], y.iloc[tr_ind])\n",
    "        rmse_values.append(rmse(y.iloc[va_ind], model.predict(X.iloc[va_ind,:])))\n",
    "    return np.mean(rmse_values)"
   ]
  },
  {
   "cell_type": "code",
   "execution_count": 24,
   "metadata": {},
   "outputs": [
    {
     "data": {
      "text/plain": [
       "array([0.18660135, 0.17597207, 0.17589809, 0.17733978, 0.11542722,\n",
       "       0.1142829 , 0.11706701, 0.11177294, 0.10919694, 0.11233906,\n",
       "       0.10919389, 0.10764563, 0.10697584, 0.10238334, 0.10392782,\n",
       "       0.10344382, 0.10344382])"
      ]
     },
     "execution_count": 24,
     "metadata": {},
     "output_type": "execute_result"
    }
   ],
   "source": [
    "from sklearn.feature_selection import RFE\n",
    "from sklearn.linear_model import LinearRegression\n",
    "\n",
    "lm = LinearRegression()\n",
    "lm.fit(X_train, y_train_views)\n",
    "\n",
    "# Get the root mean squared error respect to the number of features\n",
    "err = []\n",
    "for i in range(1, 18):\n",
    "    rfe = RFE(lm, i)             \n",
    "    err = np.append(err, cross_validate_rmse(rfe, X_train, y_train_views))\n",
    "err\n",
    "    "
   ]
  },
  {
   "cell_type": "code",
   "execution_count": 25,
   "metadata": {},
   "outputs": [
    {
     "data": {
      "image/png": "[encoded data removed]",
      "text/plain": [
       "<Figure size 432x288 with 1 Axes>"
      ]
     },
     "metadata": {
      "needs_background": "light"
     },
     "output_type": "display_data"
    }
   ],
   "source": [
    "plt.plot(range(1, 18), err)\n",
    "plt.xlabel(\"Number of Features\")\n",
    "plt.ylabel(\"RMSE\")\n",
    "plt.title(\"RMSE against Number of Features\");"
   ]
  },
  {
   "cell_type": "code",
   "execution_count": 26,
   "metadata": {},
   "outputs": [
    {
     "data": {
      "text/plain": [
       "14"
      ]
     },
     "execution_count": 26,
     "metadata": {},
     "output_type": "execute_result"
    }
   ],
   "source": [
    "temp = list(err[0:])\n",
    "best_number = temp.index(min(temp)) + 1\n",
    "best_number"
   ]
  },
  {
   "cell_type": "markdown",
   "metadata": {},
   "source": [
    "14 is the optimal number of features for the regression because it has the smallest cross vaildation error."
   ]
  },
  {
   "cell_type": "code",
   "execution_count": 27,
   "metadata": {},
   "outputs": [
    {
     "data": {
      "text/plain": [
       "Index(['spend', 'Keywords Natrual Traffic', 'Keywords Natraul Search',\n",
       "       'Nano Keywords Natrual Traffic', 'Nano Keywords Natraul Search',\n",
       "       'Upper Funnel Marketing Cost', 'YouTube Cost', 'YouTube Pageviews',\n",
       "       'Facebook Cost', 'Facebook Impression',\n",
       "       'FB Prospecting For Purchase Cost', 'Twitter Cost',\n",
       "       'Twitter Impression', 'Twitter pageviews'],\n",
       "      dtype='object')"
      ]
     },
     "execution_count": 27,
     "metadata": {},
     "output_type": "execute_result"
    }
   ],
   "source": [
    "lm = LinearRegression()\n",
    "lm.fit(X_train, y_train_views)\n",
    "rfe1 = RFE(lm, best_number)            \n",
    "rfe1 = rfe1.fit(X_train, y_train_views)\n",
    "col = X_train.columns[rfe1.support_]\n",
    "col"
   ]
  },
  {
   "cell_type": "markdown",
   "metadata": {},
   "source": [
    "Building model using statsmodel, for the detailed statistics"
   ]
  },
  {
   "cell_type": "code",
   "execution_count": 28,
   "metadata": {},
   "outputs": [],
   "source": [
    "# Creating X_test dataframe with RFE selected variables\n",
    "X_train_rfe = X_train[col]"
   ]
  },
  {
   "cell_type": "code",
   "execution_count": 29,
   "metadata": {},
   "outputs": [],
   "source": [
    "# Adding a constant variable   \n",
    "X_train_rfe = sm.add_constant(X_train_rfe)\n",
    "\n",
    "# Run the linear model\n",
    "lm2 = sm.OLS(y_train_views,X_train_rfe).fit()  "
   ]
  },
  {
   "cell_type": "markdown",
   "metadata": {},
   "source": [
    "Get the summary table"
   ]
  },
  {
   "cell_type": "code",
   "execution_count": 30,
   "metadata": {},
   "outputs": [
    {
     "name": "stdout",
     "output_type": "stream",
     "text": [
      "                            OLS Regression Results                            \n",
      "==============================================================================\n",
      "Dep. Variable:        Views to Visits   R-squared:                       0.893\n",
      "Model:                            OLS   Adj. R-squared:                  0.861\n",
      "Method:                 Least Squares   F-statistic:                     28.09\n",
      "Date:                Sat, 03 Jul 2021   Prob (F-statistic):           4.07e-18\n",
      "Time:                        22:02:40   Log-Likelihood:                 75.964\n",
      "No. Observations:                  62   AIC:                            -121.9\n",
      "Df Residuals:                      47   BIC:                            -90.02\n",
      "Df Model:                          14                                         \n",
      "Covariance Type:            nonrobust                                         \n",
      "====================================================================================================\n",
      "                                       coef    std err          t      P>|t|      [0.025      0.975]\n",
      "----------------------------------------------------------------------------------------------------\n",
      "const                               -0.0855      0.040     -2.156      0.036      -0.165      -0.006\n",
      "spend                               -0.9479      1.522     -0.623      0.536      -4.009       2.113\n",
      "Keywords Natrual Traffic             0.8233      0.154      5.339      0.000       0.513       1.133\n",
      "Keywords Natraul Search              0.2089      0.169      1.235      0.223      -0.131       0.549\n",
      "Nano Keywords Natrual Traffic        0.7253      0.397      1.829      0.074      -0.073       1.523\n",
      "Nano Keywords Natraul Search        -1.0623      0.433     -2.453      0.018      -1.933      -0.191\n",
      "Upper Funnel Marketing Cost      -1240.3426   1727.976     -0.718      0.476   -4716.583    2235.898\n",
      "YouTube Cost                       448.7044    624.745      0.718      0.476    -808.121    1705.530\n",
      "YouTube Pageviews                    0.2309      0.074      3.112      0.003       0.082       0.380\n",
      "Facebook Cost                      598.5359    832.781      0.719      0.476   -1076.803    2273.875\n",
      "Facebook Impression                 -0.4189      0.349     -1.201      0.236      -1.121       0.283\n",
      "FB Prospecting For Purchase Cost     0.3827      0.466      0.822      0.415      -0.554       1.319\n",
      "Twitter Cost                       198.3192    275.968      0.719      0.476    -356.857     753.496\n",
      "Twitter Impression                   0.2173      0.108      2.014      0.050       0.000       0.434\n",
      "Twitter pageviews                   -0.2392      0.230     -1.042      0.303      -0.701       0.223\n",
      "==============================================================================\n",
      "Omnibus:                        0.313   Durbin-Watson:                   1.807\n",
      "Prob(Omnibus):                  0.855   Jarque-Bera (JB):                0.236\n",
      "Skew:                          -0.145   Prob(JB):                        0.889\n",
      "Kurtosis:                       2.915   Cond. No.                     3.43e+05\n",
      "==============================================================================\n",
      "\n",
      "Notes:\n",
      "[1] Standard Errors assume that the covariance matrix of the errors is correctly specified.\n",
      "[2] The condition number is large, 3.43e+05. This might indicate that there are\n",
      "strong multicollinearity or other numerical problems.\n"
     ]
    }
   ],
   "source": [
    "print(lm2.summary())"
   ]
  },
  {
   "cell_type": "markdown",
   "metadata": {},
   "source": [
    "## Comparing the Models Performance\n",
    "\n",
    "### Model 1"
   ]
  },
  {
   "cell_type": "code",
   "execution_count": 31,
   "metadata": {},
   "outputs": [
    {
     "data": {
      "text/plain": [
       "0.07800754161457485"
      ]
     },
     "execution_count": 31,
     "metadata": {},
     "output_type": "execute_result"
    }
   ],
   "source": [
    "X_test_views_mdl1 = X_test[views_feature]\n",
    "y_pred_mdl1 = mdl_views.predict(X_test_views_mdl1)\n",
    "rmse_mdl1 = rmse(y_pred_mdl1, y_test_views)\n",
    "rmse_mdl1"
   ]
  },
  {
   "cell_type": "markdown",
   "metadata": {},
   "source": [
    "### Model 2"
   ]
  },
  {
   "cell_type": "code",
   "execution_count": 32,
   "metadata": {},
   "outputs": [
    {
     "data": {
      "text/plain": [
       "70.36758656323707"
      ]
     },
     "execution_count": 32,
     "metadata": {},
     "output_type": "execute_result"
    }
   ],
   "source": [
    "X_test_views_mdl2 = X_test[col]\n",
    "X_test_views_mdl2 = sm.add_constant(X_test_views_mdl2)\n",
    "y_pred_mdl2 = lm2.predict(X_test_views_mdl2)\n",
    "rmse_mdl2 = rmse(y_pred_mdl2, y_test_views)\n",
    "rmse_mdl2"
   ]
  },
  {
   "cell_type": "markdown",
   "metadata": {},
   "source": [
    "### The first model is better because it obtains a smaller root mean squared error and all the independent variables are significant away from 0 at 5% level of confidence."
   ]
  },
  {
   "cell_type": "markdown",
   "metadata": {},
   "source": [
    "**Residual Analysis for the Train Data**"
   ]
  },
  {
   "cell_type": "code",
   "execution_count": 33,
   "metadata": {},
   "outputs": [
    {
     "data": {
      "image/png": "[encoded data removed]",
      "text/plain": [
       "<Figure size 432x288 with 1 Axes>"
      ]
     },
     "metadata": {
      "needs_background": "light"
     },
     "output_type": "display_data"
    }
   ],
   "source": [
    "y_pred_views = mdl_views.predict(X_train[views_feature])\n",
    "\n",
    "# res is the residual\n",
    "res = (y_pred_views - y_train_views)\n",
    "\n",
    "# Plot the histogram of the error terms\n",
    "fig = plt.figure()\n",
    "sns.distplot(res, bins = 20)\n",
    "fig.suptitle('Error Terms', fontsize = 20)                  \n",
    "plt.xlabel('Errors', fontsize = 18);   "
   ]
  },
  {
   "cell_type": "code",
   "execution_count": 34,
   "metadata": {},
   "outputs": [
    {
     "data": {
      "text/plain": [
       "0.007531814611829689"
      ]
     },
     "execution_count": 34,
     "metadata": {},
     "output_type": "execute_result"
    }
   ],
   "source": [
    "# Mean of the residuals\n",
    "np.mean(res)"
   ]
  },
  {
   "cell_type": "code",
   "execution_count": 35,
   "metadata": {},
   "outputs": [
    {
     "data": {
      "text/plain": [
       "0.09563811993073593"
      ]
     },
     "execution_count": 35,
     "metadata": {},
     "output_type": "execute_result"
    }
   ],
   "source": [
    "# Standard Deviation of the residuals\n",
    "np.std(res)"
   ]
  },
  {
   "cell_type": "markdown",
   "metadata": {},
   "source": [
    "From the histogram and the data above, the error terms are mean zero."
   ]
  },
  {
   "cell_type": "code",
   "execution_count": 36,
   "metadata": {},
   "outputs": [
    {
     "data": {
      "image/png": "[encoded data removed]",
      "text/plain": [
       "<Figure size 432x288 with 1 Axes>"
      ]
     },
     "metadata": {
      "needs_background": "light"
     },
     "output_type": "display_data"
    }
   ],
   "source": [
    "# Plot Q-Q plot\n",
    "sm.qqplot((res - np.mean(res))/np.std(res), line ='45');"
   ]
  },
  {
   "cell_type": "markdown",
   "metadata": {},
   "source": [
    "Most of the points follow the line."
   ]
  },
  {
   "cell_type": "markdown",
   "metadata": {},
   "source": [
    "### Model Evaluation"
   ]
  },
  {
   "cell_type": "code",
   "execution_count": 37,
   "metadata": {},
   "outputs": [],
   "source": [
    "X_test_views = X_test[views_feature]"
   ]
  },
  {
   "cell_type": "markdown",
   "metadata": {},
   "source": [
    "Use model to make prediction"
   ]
  },
  {
   "cell_type": "code",
   "execution_count": 38,
   "metadata": {},
   "outputs": [],
   "source": [
    "# Making predictions\n",
    "y_pred = mdl_views.predict(X_test_views)"
   ]
  },
  {
   "cell_type": "code",
   "execution_count": 39,
   "metadata": {},
   "outputs": [
    {
     "data": {
      "text/plain": [
       "0.07800754161457485"
      ]
     },
     "execution_count": 39,
     "metadata": {},
     "output_type": "execute_result"
    }
   ],
   "source": [
    "# Root Mean Squared Error for Test Data\n",
    "rmse(y_test_views, y_pred)"
   ]
  },
  {
   "cell_type": "code",
   "execution_count": 40,
   "metadata": {},
   "outputs": [
    {
     "data": {
      "text/plain": [
       "0.8663809058576788"
      ]
     },
     "execution_count": 40,
     "metadata": {},
     "output_type": "execute_result"
    }
   ],
   "source": [
    "from sklearn.metrics import r2_score \n",
    "r2_score(y_test_views, y_pred)"
   ]
  },
  {
   "cell_type": "markdown",
   "metadata": {},
   "source": [
    "## Model For Search Volume"
   ]
  },
  {
   "cell_type": "markdown",
   "metadata": {},
   "source": [
    "### Model 1"
   ]
  },
  {
   "cell_type": "markdown",
   "metadata": {},
   "source": [
    "**Visualizing the Features Importance For Search Volume**"
   ]
  },
  {
   "cell_type": "code",
   "execution_count": 41,
   "metadata": {},
   "outputs": [
    {
     "data": {
      "image/png": "[encoded data removed]",
      "text/plain": [
       "<Figure size 720x720 with 1 Axes>"
      ]
     },
     "metadata": {
      "needs_background": "light"
     },
     "output_type": "display_data"
    }
   ],
   "source": [
    "# Building Random Forest model\n",
    "model = RandomForestRegressor(random_state=1)\n",
    "model.fit(X_train, y_train_searchvolume)\n",
    "pred = model.predict(X_test)\n",
    "# Visualizing Feature Importance\n",
    "feat_importances = pd.Series(model.feature_importances_, index=X_train.columns)\n",
    "feat_importances.nlargest(17).plot(kind='barh',figsize=(10,10));"
   ]
  },
  {
   "cell_type": "code",
   "execution_count": 42,
   "metadata": {},
   "outputs": [
    {
     "name": "stdout",
     "output_type": "stream",
     "text": [
      "                                 OLS Regression Results                                \n",
      "=======================================================================================\n",
      "Dep. Variable:          Search Volume   R-squared (uncentered):                   0.951\n",
      "Model:                            OLS   Adj. R-squared (uncentered):              0.946\n",
      "Method:                 Least Squares   F-statistic:                              182.3\n",
      "Date:                Sat, 03 Jul 2021   Prob (F-statistic):                    7.07e-35\n",
      "Time:                        22:02:40   Log-Likelihood:                          51.872\n",
      "No. Observations:                  62   AIC:                                     -91.74\n",
      "Df Residuals:                      56   BIC:                                     -78.98\n",
      "Df Model:                           6                                                  \n",
      "Covariance Type:            nonrobust                                                  \n",
      "====================================================================================================\n",
      "                                       coef    std err          t      P>|t|      [0.025      0.975]\n",
      "----------------------------------------------------------------------------------------------------\n",
      "Keywords Natrual Traffic             0.3468      0.183      1.890      0.064      -0.021       0.714\n",
      "Keywords Natraul Search              0.6340      0.213      2.975      0.004       0.207       1.061\n",
      "Twitter Impression                   0.2033      0.090      2.257      0.028       0.023       0.384\n",
      "spend                               -0.2279      0.095     -2.388      0.020      -0.419      -0.037\n",
      "FB Prospecting For Purchase Cost     0.2477      0.044      5.598      0.000       0.159       0.336\n",
      "Twitter pageviews                   -0.0531      0.125     -0.423      0.674      -0.304       0.198\n",
      "==============================================================================\n",
      "Omnibus:                        7.429   Durbin-Watson:                   1.745\n",
      "Prob(Omnibus):                  0.024   Jarque-Bera (JB):                6.658\n",
      "Skew:                          -0.685   Prob(JB):                       0.0358\n",
      "Kurtosis:                       3.837   Cond. No.                         21.6\n",
      "==============================================================================\n",
      "\n",
      "Notes:\n",
      "[1] R² is computed without centering (uncentered) since the model does not contain a constant.\n",
      "[2] Standard Errors assume that the covariance matrix of the errors is correctly specified.\n"
     ]
    }
   ],
   "source": [
    "searchvolume_feature = feat_importances.nlargest(6).index\n",
    "X_train_searchvolume = X_train[views_feature]\n",
    "mdl_searchvolume = sm.OLS(y_train_searchvolume, X_train_searchvolume).fit()\n",
    "print(mdl_searchvolume.summary())"
   ]
  },
  {
   "cell_type": "markdown",
   "metadata": {},
   "source": [
    "### Model 2 \n",
    "**Cross Validation and Recursive Feature Elimination**\n",
    "\n",
    "Use cross validation and recursive feature elimination to select best number of features and the features "
   ]
  },
  {
   "cell_type": "code",
   "execution_count": 43,
   "metadata": {},
   "outputs": [
    {
     "data": {
      "text/plain": [
       "array([0.18400653, 0.17171146, 0.1726628 , 0.17258615, 0.11247554,\n",
       "       0.12166392, 0.1216769 , 0.12044717, 0.1137436 , 0.0986325 ,\n",
       "       0.09186961, 0.09359057, 0.09116773, 0.09264274, 0.09274907,\n",
       "       0.09281404, 0.09281404])"
      ]
     },
     "execution_count": 43,
     "metadata": {},
     "output_type": "execute_result"
    }
   ],
   "source": [
    "from sklearn.feature_selection import RFE\n",
    "from sklearn.linear_model import LinearRegression\n",
    "\n",
    "lm = LinearRegression()\n",
    "lm.fit(X_train, y_train_searchvolume)\n",
    "\n",
    "# Get the root mean squared error respect to the number of features\n",
    "err = []\n",
    "for i in range(1, 18):\n",
    "    rfe = RFE(lm, i)             \n",
    "    err = np.append(err, cross_validate_rmse(rfe, X_train, y_train_searchvolume))\n",
    "err\n",
    "    "
   ]
  },
  {
   "cell_type": "code",
   "execution_count": 44,
   "metadata": {},
   "outputs": [
    {
     "data": {
      "image/png": "[encoded data removed]",
      "text/plain": [
       "<Figure size 432x288 with 1 Axes>"
      ]
     },
     "metadata": {
      "needs_background": "light"
     },
     "output_type": "display_data"
    }
   ],
   "source": [
    "plt.plot(range(1, 18), err)\n",
    "plt.xlabel(\"Number of Features\")\n",
    "plt.ylabel(\"RMSE\")\n",
    "plt.title(\"RMSE against Number of Features\");"
   ]
  },
  {
   "cell_type": "code",
   "execution_count": 45,
   "metadata": {},
   "outputs": [
    {
     "data": {
      "text/plain": [
       "13"
      ]
     },
     "execution_count": 45,
     "metadata": {},
     "output_type": "execute_result"
    }
   ],
   "source": [
    "temp = list(err[0:])\n",
    "best_number = temp.index(min(temp)) + 1\n",
    "best_number"
   ]
  },
  {
   "cell_type": "markdown",
   "metadata": {},
   "source": [
    "6 is the optimal number of features for the regression because it has the smallest cross vaildation error."
   ]
  },
  {
   "cell_type": "code",
   "execution_count": 46,
   "metadata": {},
   "outputs": [
    {
     "data": {
      "text/plain": [
       "Index(['spend', 'Keywords Natrual Traffic', 'Keywords Natraul Search',\n",
       "       'Nano Keywords Natrual Traffic', 'Nano Keywords Natraul Search',\n",
       "       'Upper Funnel Marketing Cost', 'YouTube Cost', 'YouTube Pageviews',\n",
       "       'Facebook Cost', 'Facebook Impression',\n",
       "       'FB Prospecting For Purchase Cost', 'Twitter Cost',\n",
       "       'Twitter Impression'],\n",
       "      dtype='object')"
      ]
     },
     "execution_count": 46,
     "metadata": {},
     "output_type": "execute_result"
    }
   ],
   "source": [
    "lm = LinearRegression()\n",
    "lm.fit(X_train, y_train_searchvolume)\n",
    "rfe1 = RFE(lm, best_number)            \n",
    "rfe1 = rfe1.fit(X_train, y_train_searchvolume)\n",
    "col = X_train.columns[rfe1.support_]\n",
    "col"
   ]
  },
  {
   "cell_type": "markdown",
   "metadata": {},
   "source": [
    "Building model using statsmodel, for the detailed statistics"
   ]
  },
  {
   "cell_type": "code",
   "execution_count": 47,
   "metadata": {},
   "outputs": [],
   "source": [
    "# Creating X_test dataframe with RFE selected variables\n",
    "X_train_rfe = X_train[col]"
   ]
  },
  {
   "cell_type": "code",
   "execution_count": 48,
   "metadata": {},
   "outputs": [],
   "source": [
    "# Adding a constant variable \n",
    "import statsmodels.api as sm  \n",
    "X_train_rfe = sm.add_constant(X_train_rfe)\n",
    "\n",
    "# Run the linear model\n",
    "lm2 = sm.OLS(y_train_searchvolume,X_train_rfe).fit()  "
   ]
  },
  {
   "cell_type": "markdown",
   "metadata": {},
   "source": [
    "Get the summary table"
   ]
  },
  {
   "cell_type": "code",
   "execution_count": 49,
   "metadata": {},
   "outputs": [
    {
     "name": "stdout",
     "output_type": "stream",
     "text": [
      "                            OLS Regression Results                            \n",
      "==============================================================================\n",
      "Dep. Variable:          Search Volume   R-squared:                       0.884\n",
      "Model:                            OLS   Adj. R-squared:                  0.853\n",
      "Method:                 Least Squares   F-statistic:                     28.26\n",
      "Date:                Sat, 03 Jul 2021   Prob (F-statistic):           4.53e-18\n",
      "Time:                        22:02:41   Log-Likelihood:                 79.671\n",
      "No. Observations:                  62   AIC:                            -131.3\n",
      "Df Residuals:                      48   BIC:                            -101.6\n",
      "Df Model:                          13                                         \n",
      "Covariance Type:            nonrobust                                         \n",
      "====================================================================================================\n",
      "                                       coef    std err          t      P>|t|      [0.025      0.975]\n",
      "----------------------------------------------------------------------------------------------------\n",
      "const                                0.0937      0.037      2.536      0.015       0.019       0.168\n",
      "spend                               -0.6989      1.395     -0.501      0.619      -3.504       2.106\n",
      "Keywords Natrual Traffic             0.2335      0.144      1.626      0.111      -0.055       0.522\n",
      "Keywords Natraul Search              0.7920      0.157      5.033      0.000       0.476       1.108\n",
      "Nano Keywords Natrual Traffic        1.4335      0.364      3.936      0.000       0.701       2.166\n",
      "Nano Keywords Natraul Search        -1.8106      0.397     -4.559      0.000      -2.609      -1.012\n",
      "Upper Funnel Marketing Cost        673.1857   1610.364      0.418      0.678   -2564.667    3911.039\n",
      "YouTube Cost                      -243.2300    582.225     -0.418      0.678   -1413.872     927.412\n",
      "YouTube Pageviews                    0.2860      0.069      4.148      0.000       0.147       0.425\n",
      "Facebook Cost                     -323.4987    776.099     -0.417      0.679   -1883.951    1236.953\n",
      "Facebook Impression                 -0.6115      0.311     -1.963      0.055      -1.238       0.015\n",
      "FB Prospecting For Purchase Cost     0.2079      0.427      0.487      0.628      -0.650       1.066\n",
      "Twitter Cost                      -107.5899    257.183     -0.418      0.678    -624.690     409.510\n",
      "Twitter Impression                   0.2950      0.097      3.027      0.004       0.099       0.491\n",
      "==============================================================================\n",
      "Omnibus:                        1.263   Durbin-Watson:                   1.897\n",
      "Prob(Omnibus):                  0.532   Jarque-Bera (JB):                0.916\n",
      "Skew:                          -0.297   Prob(JB):                        0.632\n",
      "Kurtosis:                       3.032   Cond. No.                     3.34e+05\n",
      "==============================================================================\n",
      "\n",
      "Notes:\n",
      "[1] Standard Errors assume that the covariance matrix of the errors is correctly specified.\n",
      "[2] The condition number is large, 3.34e+05. This might indicate that there are\n",
      "strong multicollinearity or other numerical problems.\n"
     ]
    }
   ],
   "source": [
    "print(lm2.summary())"
   ]
  },
  {
   "cell_type": "markdown",
   "metadata": {},
   "source": [
    "## Comparing the Models Performance\n",
    "\n",
    "### Model 1"
   ]
  },
  {
   "cell_type": "code",
   "execution_count": 50,
   "metadata": {},
   "outputs": [
    {
     "data": {
      "text/plain": [
       "0.1325637144213974"
      ]
     },
     "execution_count": 50,
     "metadata": {},
     "output_type": "execute_result"
    }
   ],
   "source": [
    "X_test_searchvolume_mdl1 = X_test[searchvolume_feature]\n",
    "y_pred_mdl1 = mdl_searchvolume.predict(X_test_searchvolume_mdl1)\n",
    "rmse_mdl1 = rmse(y_pred_mdl1, y_test_searchvolume)\n",
    "rmse_mdl1"
   ]
  },
  {
   "cell_type": "markdown",
   "metadata": {},
   "source": [
    "### Model 2"
   ]
  },
  {
   "cell_type": "code",
   "execution_count": 51,
   "metadata": {},
   "outputs": [
    {
     "data": {
      "text/plain": [
       "38.31224078087671"
      ]
     },
     "execution_count": 51,
     "metadata": {},
     "output_type": "execute_result"
    }
   ],
   "source": [
    "X_test_searchvolume_mdl2 = X_test[col]\n",
    "X_test_searchvolume_mdl2 = sm.add_constant(X_test_searchvolume_mdl2)\n",
    "y_pred_mdl2 = lm2.predict(X_test_searchvolume_mdl2)\n",
    "rmse_mdl2 = rmse(y_pred_mdl2, y_test_searchvolume)\n",
    "rmse_mdl2"
   ]
  },
  {
   "cell_type": "markdown",
   "metadata": {},
   "source": [
    "### The first model is better because it obtains a smaller root mean squared error and all the independent variables are significant away from 0 at 5% level of confidence."
   ]
  },
  {
   "cell_type": "markdown",
   "metadata": {},
   "source": [
    "**Residual Analysis for the Train Data**"
   ]
  },
  {
   "cell_type": "code",
   "execution_count": 52,
   "metadata": {},
   "outputs": [
    {
     "data": {
      "image/png": "[encoded data removed]",
      "text/plain": [
       "<Figure size 432x288 with 1 Axes>"
      ]
     },
     "metadata": {
      "needs_background": "light"
     },
     "output_type": "display_data"
    }
   ],
   "source": [
    "y_pred_searchvolume = mdl_searchvolume.predict(X_train[searchvolume_feature])\n",
    "\n",
    "# res is the residual\n",
    "res = (y_pred_searchvolume - y_train_searchvolume)\n",
    "\n",
    "# Plot the histogram of the error terms\n",
    "fig = plt.figure()\n",
    "sns.distplot(res, bins = 20)\n",
    "fig.suptitle('Error Terms', fontsize = 20)                  \n",
    "plt.xlabel('Errors', fontsize = 18);   "
   ]
  },
  {
   "cell_type": "code",
   "execution_count": 53,
   "metadata": {},
   "outputs": [
    {
     "data": {
      "text/plain": [
       "-0.024067674747133446"
      ]
     },
     "execution_count": 53,
     "metadata": {},
     "output_type": "execute_result"
    }
   ],
   "source": [
    "# Mean of the residuals\n",
    "np.mean(res)"
   ]
  },
  {
   "cell_type": "code",
   "execution_count": 54,
   "metadata": {},
   "outputs": [
    {
     "data": {
      "text/plain": [
       "0.12315580896750973"
      ]
     },
     "execution_count": 54,
     "metadata": {},
     "output_type": "execute_result"
    }
   ],
   "source": [
    "# Standard Deviation of the residuals\n",
    "np.std(res)"
   ]
  },
  {
   "cell_type": "markdown",
   "metadata": {},
   "source": [
    "From the histogram and the data above, the error terms are mean zero."
   ]
  },
  {
   "cell_type": "code",
   "execution_count": 55,
   "metadata": {},
   "outputs": [
    {
     "data": {
      "image/png": "[encoded data removed]",
      "text/plain": [
       "<Figure size 432x288 with 1 Axes>"
      ]
     },
     "metadata": {
      "needs_background": "light"
     },
     "output_type": "display_data"
    }
   ],
   "source": [
    "# Plot Q-Q plot\n",
    "sm.qqplot((res - np.mean(res))/np.std(res), line ='45');"
   ]
  },
  {
   "cell_type": "markdown",
   "metadata": {},
   "source": [
    "Most of the points follow the line."
   ]
  },
  {
   "cell_type": "markdown",
   "metadata": {},
   "source": [
    "There is no clear pattern between predicted sale price and residual."
   ]
  },
  {
   "cell_type": "markdown",
   "metadata": {},
   "source": [
    "### Model Evaluation"
   ]
  },
  {
   "cell_type": "code",
   "execution_count": 56,
   "metadata": {},
   "outputs": [],
   "source": [
    "X_test_searchvolume = X_test[searchvolume_feature]"
   ]
  },
  {
   "cell_type": "markdown",
   "metadata": {},
   "source": [
    "Use model to make prediction"
   ]
  },
  {
   "cell_type": "code",
   "execution_count": 57,
   "metadata": {},
   "outputs": [],
   "source": [
    "# Making predictions\n",
    "y_pred = mdl_searchvolume.predict(X_test_searchvolume)"
   ]
  },
  {
   "cell_type": "code",
   "execution_count": 58,
   "metadata": {},
   "outputs": [
    {
     "data": {
      "text/plain": [
       "0.1325637144213974"
      ]
     },
     "execution_count": 58,
     "metadata": {},
     "output_type": "execute_result"
    }
   ],
   "source": [
    "# Root Mean Squared Error for Test Data\n",
    "rmse(y_test_searchvolume, y_pred)"
   ]
  },
  {
   "cell_type": "code",
   "execution_count": 59,
   "metadata": {},
   "outputs": [
    {
     "data": {
      "text/plain": [
       "0.6313064220863158"
      ]
     },
     "execution_count": 59,
     "metadata": {},
     "output_type": "execute_result"
    }
   ],
   "source": [
    "from sklearn.metrics import r2_score \n",
    "r2_score(y_test_searchvolume, y_pred)"
   ]
  }
 ],
 "metadata": {
  "kernelspec": {
   "display_name": "Python 3",
   "language": "python",
   "name": "python3"
  },
  "language_info": {
   "codemirror_mode": {
    "name": "ipython",
    "version": 3
   },
   "file_extension": ".py",
   "mimetype": "text/x-python",
   "name": "python",
   "nbconvert_exporter": "python",
   "pygments_lexer": "ipython3",
   "version": "3.8.3"
  }
 },
 "nbformat": 4,
 "nbformat_minor": 4
}
