{
 "cells": [
  {
   "cell_type": "markdown",
   "metadata": {},
   "source": [
    "# Web-Scrapping"
   ]
  },
  {
   "cell_type": "code",
   "execution_count": 1,
   "metadata": {},
   "outputs": [],
   "source": [
    "# Install the required library\n",
    "!pip install -U -q requests"
   ]
  },
  {
   "cell_type": "code",
   "execution_count": 2,
   "metadata": {},
   "outputs": [],
   "source": [
    "# Load the required library\n",
    "import requests"
   ]
  },
  {
   "cell_type": "code",
   "execution_count": 8,
   "metadata": {},
   "outputs": [],
   "source": [
    "url_ihsn = 'http://catalog.ihsn.org/catalog/export/csv?ps=10000&collection[]=central'\n",
    "url_unstatswomen = 'https://public.tableau.com/vizql/w/TimeUse_DRAFT/v/DATADOWNLOAD-WOMEN/vudcsv/sessions/13E4564A46D944269DF7112A5B91F690-0:0/views/7713620505763405234_16317244867269036255?underlying_table_id=Migrated%20Data&underlying_table_caption=Full%20Data'\n",
    "url_unstatsmen = 'https://public.tableau.com/vizql/w/TimeUse_DRAFT/v/DATADOWNLOAD-MEN/vudcsv/sessions/13E4564A46D944269DF7112A5B91F690-0:0/views/7713620505763405234_15010888941265086071?underlying_table_id=Migrated%20Data&underlying_table_caption=Full%20Data'\n",
    "url_unwomen = 'https://evaw-global-database.unwomen.org/VAW/ExportToExcellDataList?countryId=&urlstring=https://evaw-global-database.unwomen.org/en/search' "
   ]
  },
  {
   "cell_type": "code",
   "execution_count": 4,
   "metadata": {},
   "outputs": [],
   "source": [
    "# Download IHSN\n",
    "req = requests.get(url_ihsn)\n",
    "url_content = req.content\n",
    "csv_file = open('IHSN_SurveyData.csv', 'wb')\n",
    "\n",
    "csv_file.write(url_content)\n",
    "csv_file.close()"
   ]
  },
  {
   "cell_type": "code",
   "execution_count": 9,
   "metadata": {},
   "outputs": [],
   "source": [
    "# Download UNStats (Women) \n",
    "req = requests.get(url_unstatswomen)\n",
    "url_content = req.content\n",
    "csv_file = open('UNStatsWomen_SurveyData.csv', 'wb')\n",
    "\n",
    "csv_file.write(url_content)\n",
    "csv_file.close()\n"
   ]
  },
  {
   "cell_type": "code",
   "execution_count": 10,
   "metadata": {},
   "outputs": [],
   "source": [
    "# Download UNStats (Men) \n",
    "req = requests.get(url_unstatsmen)\n",
    "url_content = req.content\n",
    "csv_file = open('UNStatsMen_SurveyData.csv', 'wb')\n",
    "\n",
    "csv_file.write(url_content)\n",
    "csv_file.close()"
   ]
  },
  {
   "cell_type": "code",
   "execution_count": 7,
   "metadata": {},
   "outputs": [],
   "source": [
    "# Download UNWomen\n",
    "req = requests.get(url_unwomen)\n",
    "url_content = req.content\n",
    "csv_file = open('UNWomen_SurveyData.csv', 'wb')\n",
    "\n",
    "csv_file.write(url_content)\n",
    "csv_file.close()"
   ]
  },
  {
   "cell_type": "code",
   "execution_count": null,
   "metadata": {},
   "outputs": [],
   "source": []
  }
 ],
 "metadata": {
  "kernelspec": {
   "display_name": "Python 3",
   "language": "python",
   "name": "python3"
  },
  "language_info": {
   "codemirror_mode": {
    "name": "ipython",
    "version": 3
   },
   "file_extension": ".py",
   "mimetype": "text/x-python",
   "name": "python",
   "nbconvert_exporter": "python",
   "pygments_lexer": "ipython3",
   "version": "3.8.3"
  }
 },
 "nbformat": 4,
 "nbformat_minor": 4
}
